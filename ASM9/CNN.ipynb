{
 "cells": [
  {
   "cell_type": "code",
   "execution_count": 21,
   "metadata": {},
   "outputs": [],
   "source": [
    "import numpy as np\n",
    "import torch\n",
    "import torch.nn as nn\n",
    "import torch.optim as optim\n",
    "from torch.utils.data import DataLoader\n",
    "import torchvision\n",
    "import torchvision.models as models\n",
    "import torchvision.transforms as transforms\n",
    "import torchvision.datasets as datasets\n",
    "from PIL import Image\n",
    "from torch.autograd import Variable\n",
    "from numpy.fft import rfft2, irfft2\n",
    "from sklearn import svm\n",
    "import cv2\n",
    "from matplotlib import pyplot as plt\n",
    "import joblib\n",
    "import os\n",
    "from sklearn import svm\n",
    "from sklearn.model_selection import train_test_split\n",
    "from sklearn.utils import shuffle\n",
    "from sklearn.metrics import classification_report\n",
    "from sklearn.metrics import confusion_matrix"
   ]
  },
  {
   "cell_type": "code",
   "execution_count": 3,
   "metadata": {},
   "outputs": [
    {
     "data": {
      "text/plain": [
       "device(type='cuda')"
      ]
     },
     "execution_count": 3,
     "metadata": {},
     "output_type": "execute_result"
    }
   ],
   "source": [
    "device = torch.device('cuda' if torch.cuda.is_available() else 'cpu')\n",
    "device"
   ]
  },
  {
   "cell_type": "code",
   "execution_count": 131,
   "metadata": {},
   "outputs": [],
   "source": [
    "class CNN(nn.Module):\n",
    "    def __init__(self, in_channels = 1, num_classes = 10):\n",
    "        super(CNN, self).__init__()\n",
    "        self.C1 = nn.Conv2d(in_channels=1, out_channels=8, kernel_size=(3,3), stride=(1,1), padding=(1,1))\n",
    "        self.pool = nn.MaxPool2d(kernel_size=(3,3), stride=(2,2))\n",
    "        self.C2 = nn.Conv2d(in_channels=8, out_channels=16, kernel_size=(3,3), stride=(2,2), padding=(1,1))\n",
    "        self.ave_pool = nn.AvgPool2d(3,1)\n",
    "        self.fc1 = nn.Linear(400, 400)\n",
    "        self.fc2 = nn.Linear(400, num_classes)\n",
    "\n",
    "    def forward(self, x):\n",
    "        x = nn.functional.relu(self.C1(x))\n",
    "        x = self.pool(x)\n",
    "        x = nn.functional.relu(self.C2(x))\n",
    "        x = self.ave_pool(x)\n",
    "        x = x.reshape(x.shape[0],-1)\n",
    "        #x = x.view(-1, 16*5*5)\n",
    "        x = nn.functional.relu(self.fc1(x))\n",
    "        x = nn.functional.sigmoid(self.fc2(x))\n",
    "        \n",
    "        return x\n"
   ]
  },
  {
   "cell_type": "code",
   "execution_count": 124,
   "metadata": {},
   "outputs": [],
   "source": [
    "learning_rate = 0.001\n",
    "num_classes = 10\n",
    "batch_size = 256\n",
    "num_epochs = 100"
   ]
  },
  {
   "cell_type": "code",
   "execution_count": 132,
   "metadata": {},
   "outputs": [],
   "source": [
    "model = CNN().to(device)\n",
    "\n",
    "criterion = nn.CrossEntropyLoss()\n",
    "optimizer = optim.Adam(model.parameters(), lr=learning_rate)"
   ]
  },
  {
   "cell_type": "code",
   "execution_count": 126,
   "metadata": {},
   "outputs": [],
   "source": [
    "train_dataset = datasets.MNIST(root='dataset/', train=True, transform=transforms.ToTensor(), download=True)\n",
    "train_loader = DataLoader(dataset=train_dataset, batch_size=batch_size, shuffle=True)\n",
    "test_dataset = datasets.MNIST(root='dataset/', train=False, transform=transforms.ToTensor(), download=True)\n",
    "test_loader = DataLoader(dataset=test_dataset, batch_size=batch_size, shuffle=True)\n"
   ]
  },
  {
   "cell_type": "code",
   "execution_count": 146,
   "metadata": {},
   "outputs": [],
   "source": [
    "for epoch in range(num_epochs):\n",
    "    \n",
    "    for batch_idx, (data, targets) in enumerate(train_loader):\n",
    "        data = data.to(device=device)\n",
    "        targets = targets.to(device=device)\n",
    "\n",
    "        scores = model(data)\n",
    "        loss = criterion(scores, targets)\n",
    "        \n",
    "\n",
    "        optimizer.zero_grad()\n",
    "        loss.backward()\n",
    "\n",
    "        optimizer.step()\n",
    "\n",
    "        "
   ]
  },
  {
   "cell_type": "code",
   "execution_count": 147,
   "metadata": {},
   "outputs": [],
   "source": [
    "def accuracy(loader, model):\n",
    "    if loader.dataset.train:\n",
    "        print(\"---Trainning Accuracy---\")\n",
    "    else:\n",
    "        print(\"---Test Accuracy---\")\n",
    "    \n",
    "    num_correct = 0\n",
    "    num_sample = 0\n",
    "    model.eval()\n",
    "    with torch.no_grad():\n",
    "        for x, y in loader:\n",
    "            x = x.to(device=device)\n",
    "            y = y.to(device=device)\n",
    "\n",
    "            scores = model(x)\n",
    "            _, predictions = scores.max(1)\n",
    "            num_correct += (predictions==y).sum()\n",
    "            num_sample  += predictions.size(0)\n",
    "        print(f\"Got {num_correct}/{num_sample} with accuracy {round(float(num_correct/num_sample),4)}\")\n",
    "    model.train()\n"
   ]
  },
  {
   "cell_type": "code",
   "execution_count": 148,
   "metadata": {},
   "outputs": [
    {
     "name": "stdout",
     "output_type": "stream",
     "text": [
      "---Trainning Accuracy---\n",
      "Got 59874/60000 with accuracy 0.9979\n",
      "---Test Accuracy---\n",
      "Got 9899/10000 with accuracy 0.9899\n"
     ]
    }
   ],
   "source": [
    "accuracy(train_loader,model)\n",
    "accuracy(test_loader, model)"
   ]
  },
  {
   "cell_type": "code",
   "execution_count": 223,
   "metadata": {},
   "outputs": [],
   "source": [
    "# predict\n",
    "def predict_(test_loader, model):\n",
    "    predict = []\n",
    "    true_label = []\n",
    "    n = np.random.randint(len(test_loader))\n",
    "    i = 0\n",
    "    with torch.no_grad():\n",
    "        for x, y in test_loader:\n",
    "            x = x.to(device=device)\n",
    "            true_label = y\n",
    "            y = y.to(device=device)\n",
    "            scores = model(x)\n",
    "            _, predictions = scores.max(1)\n",
    "        \n",
    "            predict = predictions.to('cpu')\n",
    "            i+=1\n",
    "            if i == n:\n",
    "                break\n",
    "    return predict, true_label\n"
   ]
  },
  {
   "cell_type": "code",
   "execution_count": 270,
   "metadata": {},
   "outputs": [
    {
     "name": "stdout",
     "output_type": "stream",
     "text": [
      "---Random Predict---\n",
      "|  Number predict  |\n",
      "____________________\n",
      "|        7         |\n",
      "____________________\n",
      "|True number label |\n",
      "____________________\n",
      "|        7         |\n",
      "____________________\n",
      "        -------Wrong Predict-------\n",
      "____________________________________________\n",
      "| Predict Number    |  True Label's Number |\n",
      "____________________________________________\n",
      "|        3          |           9          |\n",
      "____________________________________________\n",
      "|        7          |           2          |\n",
      "____________________________________________\n",
      "|        7          |           1          |\n",
      "____________________________________________\n",
      "|        7          |           0          |\n",
      "____________________________________________\n",
      "|        3          |           5          |\n",
      "____________________________________________\n"
     ]
    }
   ],
   "source": [
    "#Predict \n",
    "predict, true_label = predict_(test_loader, model)\n",
    "predict = [np.array(i,dtype=int) for i in predict]\n",
    "true_label = [np.array(i,dtype=int) for i in true_label]\n",
    "t = np.random.randint(len(predict))\n",
    "print(\"---Random Predict---\")\n",
    "print('|  Number predict  |')\n",
    "print('____________________')\n",
    "print(\"|\",\" \"*6 ,predict[t], \" \"* 7, \"|\")\n",
    "print('____________________')\n",
    "print('|True number label |')\n",
    "print('____________________')\n",
    "print(\"|\",\" \"*6, true_label[t],\" \"*7, \"|\")\n",
    "print('____________________')\n",
    "print(\"        -------Wrong Predict-------\")\n",
    "print(\"____________________________________________\")\n",
    "print(\"| Predict Number    |  True Label's Number |\")\n",
    "print(\"____________________________________________\")\n",
    "for i in range(256):\n",
    "    if predict[i]!=true_label[i]:\n",
    "        print(\"|       \",predict[i], \"  \" *4,\"|\",\" \"* 9, true_label[i], \" \"* 8,\"|\")\n",
    "        print(\"____________________________________________\")\n",
    "\n"
   ]
  }
 ],
 "metadata": {
  "interpreter": {
   "hash": "57baa5815c940fdaff4d14510622de9616cae602444507ba5d0b6727c008cbd6"
  },
  "kernelspec": {
   "display_name": "Python 3.7.8 64-bit",
   "language": "python",
   "name": "python3"
  },
  "language_info": {
   "codemirror_mode": {
    "name": "ipython",
    "version": 3
   },
   "file_extension": ".py",
   "mimetype": "text/x-python",
   "name": "python",
   "nbconvert_exporter": "python",
   "pygments_lexer": "ipython3",
   "version": "3.8.10"
  },
  "orig_nbformat": 4
 },
 "nbformat": 4,
 "nbformat_minor": 2
}
