{
 "cells": [
  {
   "cell_type": "code",
   "execution_count": 43,
   "metadata": {},
   "outputs": [],
   "source": [
    "import numpy as np\n",
    "import torch\n",
    "import torch.nn as nn\n",
    "import torch.optim as optim\n",
    "from torch import flatten\n",
    "from torch.utils.data import DataLoader\n",
    "import torchvision\n",
    "import torchvision.transforms as transforms\n",
    "import torchvision.datasets as datasets\n",
    "from torch.autograd import Variable\n"
   ]
  },
  {
   "cell_type": "code",
   "execution_count": 3,
   "metadata": {},
   "outputs": [
    {
     "data": {
      "text/plain": [
       "device(type='cuda')"
      ]
     },
     "execution_count": 3,
     "metadata": {},
     "output_type": "execute_result"
    }
   ],
   "source": [
    "device = torch.device('cuda' if torch.cuda.is_available() else 'cpu')\n",
    "device"
   ]
  },
  {
   "cell_type": "code",
   "execution_count": 96,
   "metadata": {},
   "outputs": [],
   "source": [
    "class CNN(nn.Module):\n",
    "    def __init__(self, in_channels = 1, num_classes = 10):\n",
    "        super(CNN, self).__init__()\n",
    "        self.C1 = nn.Conv2d(in_channels=1, out_channels=8, kernel_size=(3,3), stride=1, padding='same')\n",
    "        self.pool = nn.MaxPool2d(kernel_size=(3,3), stride=(2,2))\n",
    "        self.C2 = nn.Conv2d(in_channels=8, out_channels=8, kernel_size=(3,3), stride=1, padding='same')\n",
    "        self.C3 = nn.Conv2d(in_channels=8, out_channels=8, kernel_size=(3,3), stride=1, padding='same')\n",
    "        self.C4 = nn.Conv2d(in_channels=8, out_channels=16, kernel_size=(3,3), stride=2)\n",
    "        self.C5 = nn.Conv2d(in_channels=16, out_channels=16, kernel_size=(3,3), stride=1, padding='same')\n",
    "        self.C6 = nn.Conv2d(in_channels=16, out_channels=16, kernel_size=(3,3), stride=1, padding='same')\n",
    "        self.ave_pool = nn.AvgPool2d(2,1)\n",
    "        self.fc1 = nn.Linear(400, 400)\n",
    "        self.fc2 = nn.Linear(400, num_classes)\n",
    "\n",
    "    def forward(self, x):\n",
    "        x = nn.functional.relu(self.C1(x))\n",
    "        x = self.pool(x)\n",
    "\n",
    "        shortcut = x\n",
    "        x = nn.functional.relu(self.C2(x))\n",
    "        x = nn.functional.relu(self.C3(x) + shortcut)\n",
    "        x = nn.functional.relu(self.C4(x))\n",
    "\n",
    "        shortcut = x\n",
    "        x = nn.functional.relu(self.C5(x))\n",
    "        x = nn.functional.relu(self.C6(x))\n",
    "        x = self.ave_pool(x + shortcut)\n",
    "        #x = x.reshape(x.shape[0],-1)\n",
    "        x = flatten(x,1)\n",
    "        x = nn.functional.softmax(self.fc1(x))\n",
    "        x = self.fc2(x)\n",
    "        \n",
    "        return x\n"
   ]
  },
  {
   "cell_type": "code",
   "execution_count": 98,
   "metadata": {},
   "outputs": [],
   "source": [
    "learning_rate = 0.001\n",
    "num_classes = 10\n",
    "batch_size = 64\n",
    "num_epochs = 100"
   ]
  },
  {
   "cell_type": "code",
   "execution_count": 97,
   "metadata": {},
   "outputs": [],
   "source": [
    "model = CNN().to(device)\n",
    "criterion = nn.CrossEntropyLoss()\n",
    "optimizer = optim.Adam(model.parameters(), lr=learning_rate)"
   ]
  },
  {
   "cell_type": "code",
   "execution_count": 99,
   "metadata": {},
   "outputs": [],
   "source": [
    "transform=transforms.Compose([\n",
    "                       transforms.ToTensor(),\n",
    "                       transforms.Normalize((0.1307,), (0.3081,)),\n",
    "                   ])"
   ]
  },
  {
   "cell_type": "code",
   "execution_count": 100,
   "metadata": {},
   "outputs": [],
   "source": [
    "train_dataset = datasets.MNIST(root='./dataset/', train=True, transform=transform, download=True)\n",
    "train_loader = DataLoader(dataset=train_dataset, batch_size=batch_size, shuffle=True)\n",
    "test_dataset = datasets.MNIST(root='./dataset/', train=False, transform=transform, download=True)\n",
    "test_loader = DataLoader(dataset=test_dataset, batch_size=batch_size, shuffle=True)\n"
   ]
  },
  {
   "cell_type": "code",
   "execution_count": 101,
   "metadata": {},
   "outputs": [
    {
     "data": {
      "text/plain": [
       "937"
      ]
     },
     "execution_count": 101,
     "metadata": {},
     "output_type": "execute_result"
    }
   ],
   "source": [
    "trainSteps = len(train_loader.dataset) // batch_size\n",
    "trainSteps"
   ]
  },
  {
   "cell_type": "code",
   "execution_count": 102,
   "metadata": {},
   "outputs": [
    {
     "name": "stderr",
     "output_type": "stream",
     "text": [
      "C:\\Users\\Admin\\AppData\\Local\\Temp/ipykernel_7824/3646285791.py:30: UserWarning: Implicit dimension choice for softmax has been deprecated. Change the call to include dim=X as an argument.\n",
      "  x = nn.functional.softmax(self.fc1(x))\n"
     ]
    },
    {
     "name": "stdout",
     "output_type": "stream",
     "text": [
      "Epoch 1/100, Loss: 1.778180\n",
      "Epoch 2/100, Loss: 1.158890\n",
      "Epoch 3/100, Loss: 0.950110\n",
      "Epoch 4/100, Loss: 0.867848\n",
      "Epoch 5/100, Loss: 0.825231\n",
      "Epoch 6/100, Loss: 0.802645\n",
      "Epoch 7/100, Loss: 0.782166\n",
      "Epoch 8/100, Loss: 0.714443\n",
      "Epoch 9/100, Loss: 0.588646\n",
      "Epoch 10/100, Loss: 0.466365\n",
      "Epoch 11/100, Loss: 0.371137\n",
      "Epoch 12/100, Loss: 0.299525\n",
      "Epoch 13/100, Loss: 0.235554\n",
      "Epoch 14/100, Loss: 0.185229\n",
      "Epoch 15/100, Loss: 0.150679\n",
      "Epoch 16/100, Loss: 0.125110\n",
      "Epoch 17/100, Loss: 0.108113\n",
      "Epoch 18/100, Loss: 0.092724\n",
      "Epoch 19/100, Loss: 0.079567\n",
      "Epoch 20/100, Loss: 0.073202\n",
      "Epoch 21/100, Loss: 0.066961\n",
      "Epoch 22/100, Loss: 0.059608\n",
      "Epoch 23/100, Loss: 0.053578\n",
      "Epoch 24/100, Loss: 0.051944\n",
      "Epoch 25/100, Loss: 0.047224\n",
      "Epoch 26/100, Loss: 0.044333\n",
      "Epoch 27/100, Loss: 0.041251\n",
      "Epoch 28/100, Loss: 0.038306\n",
      "Epoch 29/100, Loss: 0.036537\n",
      "Epoch 30/100, Loss: 0.034584\n",
      "Epoch 31/100, Loss: 0.035067\n",
      "Epoch 32/100, Loss: 0.031522\n",
      "Epoch 33/100, Loss: 0.029710\n",
      "Epoch 34/100, Loss: 0.032017\n",
      "Epoch 35/100, Loss: 0.028863\n",
      "Epoch 36/100, Loss: 0.023822\n",
      "Epoch 37/100, Loss: 0.029092\n",
      "Epoch 38/100, Loss: 0.027216\n",
      "Epoch 39/100, Loss: 0.026137\n",
      "Epoch 40/100, Loss: 0.022409\n",
      "Epoch 41/100, Loss: 0.022937\n",
      "Epoch 42/100, Loss: 0.022582\n",
      "Epoch 43/100, Loss: 0.025057\n",
      "Epoch 44/100, Loss: 0.020148\n",
      "Epoch 45/100, Loss: 0.027340\n",
      "Epoch 46/100, Loss: 0.023590\n",
      "Epoch 47/100, Loss: 0.014349\n",
      "Epoch 48/100, Loss: 0.014848\n",
      "Epoch 49/100, Loss: 0.025891\n",
      "Epoch 50/100, Loss: 0.020402\n",
      "Epoch 51/100, Loss: 0.017040\n",
      "Epoch 52/100, Loss: 0.015447\n",
      "Epoch 53/100, Loss: 0.020713\n",
      "Epoch 54/100, Loss: 0.018971\n",
      "Epoch 55/100, Loss: 0.020372\n",
      "Epoch 56/100, Loss: 0.018411\n",
      "Epoch 57/100, Loss: 0.014801\n",
      "Epoch 58/100, Loss: 0.017354\n",
      "Epoch 59/100, Loss: 0.017308\n",
      "Epoch 60/100, Loss: 0.016992\n",
      "Epoch 61/100, Loss: 0.015687\n",
      "Epoch 62/100, Loss: 0.016311\n",
      "Epoch 63/100, Loss: 0.011784\n",
      "Epoch 64/100, Loss: 0.017557\n",
      "Epoch 65/100, Loss: 0.020927\n",
      "Epoch 66/100, Loss: 0.011936\n",
      "Epoch 67/100, Loss: 0.012223\n",
      "Epoch 68/100, Loss: 0.018318\n",
      "Epoch 69/100, Loss: 0.016515\n",
      "Epoch 70/100, Loss: 0.012343\n",
      "Epoch 71/100, Loss: 0.015306\n",
      "Epoch 72/100, Loss: 0.015769\n",
      "Epoch 73/100, Loss: 0.009011\n",
      "Epoch 74/100, Loss: 0.019104\n",
      "Epoch 75/100, Loss: 0.011380\n",
      "Epoch 76/100, Loss: 0.012748\n",
      "Epoch 77/100, Loss: 0.020463\n",
      "Epoch 78/100, Loss: 0.010414\n",
      "Epoch 79/100, Loss: 0.012953\n",
      "Epoch 80/100, Loss: 0.012858\n",
      "Epoch 81/100, Loss: 0.012266\n",
      "Epoch 82/100, Loss: 0.016387\n",
      "Epoch 83/100, Loss: 0.011645\n",
      "Epoch 84/100, Loss: 0.010202\n",
      "Epoch 85/100, Loss: 0.015206\n",
      "Epoch 86/100, Loss: 0.017862\n",
      "Epoch 87/100, Loss: 0.006577\n",
      "Epoch 88/100, Loss: 0.009672\n",
      "Epoch 89/100, Loss: 0.022046\n",
      "Epoch 90/100, Loss: 0.012183\n",
      "Epoch 91/100, Loss: 0.012836\n",
      "Epoch 92/100, Loss: 0.011199\n",
      "Epoch 93/100, Loss: 0.012301\n",
      "Epoch 94/100, Loss: 0.013568\n",
      "Epoch 95/100, Loss: 0.008141\n",
      "Epoch 96/100, Loss: 0.017470\n",
      "Epoch 97/100, Loss: 0.011130\n",
      "Epoch 98/100, Loss: 0.013703\n",
      "Epoch 99/100, Loss: 0.013640\n",
      "Epoch 100/100, Loss: 0.014935\n"
     ]
    }
   ],
   "source": [
    "#### Train\n",
    "for epoch in range(num_epochs):\n",
    "    model.train()   \n",
    "    \n",
    "    totalTrainLoss = 0\n",
    "\n",
    "    for batch_idx, (data, targets) in enumerate(train_loader):\n",
    "        data = data.to(device=device)\n",
    "        targets = targets.to(device=device)\n",
    "\n",
    "        scores = model(data)\n",
    "        loss = criterion(scores, targets)\n",
    "        \n",
    "        optimizer.zero_grad()\n",
    "        loss.backward()\n",
    "        optimizer.step()\n",
    "\n",
    "        totalTrainLoss += loss.item()\n",
    "    print(f'Epoch {epoch+1}/{num_epochs}, Loss: {(totalTrainLoss/trainSteps):.6f}')\n",
    "\n",
    "        "
   ]
  },
  {
   "cell_type": "code",
   "execution_count": 103,
   "metadata": {},
   "outputs": [],
   "source": [
    "def accuracy(loader, model):\n",
    "    if loader.dataset.train:\n",
    "        print(\"---Trainning Accuracy---\")\n",
    "    else:\n",
    "        print(\"---Test Accuracy---\")\n",
    "    \n",
    "    num_correct = 0\n",
    "    num_sample = 0\n",
    "    model.eval()\n",
    "    with torch.no_grad():\n",
    "        for x, y in loader:\n",
    "            x = x.to(device=device)\n",
    "            y = y.to(device=device)\n",
    "\n",
    "            scores = model(x)\n",
    "            _, predictions = scores.max(1)\n",
    "            num_correct += (predictions==y).sum()\n",
    "            num_sample  += predictions.size(0)\n",
    "        print(f\"Got {num_correct}/{num_sample} with accuracy {round(float(num_correct/num_sample),4)}\")\n",
    "    model.train()\n"
   ]
  },
  {
   "cell_type": "code",
   "execution_count": 104,
   "metadata": {},
   "outputs": [
    {
     "name": "stdout",
     "output_type": "stream",
     "text": [
      "---Trainning Accuracy---\n"
     ]
    },
    {
     "name": "stderr",
     "output_type": "stream",
     "text": [
      "C:\\Users\\Admin\\AppData\\Local\\Temp/ipykernel_7824/3646285791.py:30: UserWarning: Implicit dimension choice for softmax has been deprecated. Change the call to include dim=X as an argument.\n",
      "  x = nn.functional.softmax(self.fc1(x))\n"
     ]
    },
    {
     "name": "stdout",
     "output_type": "stream",
     "text": [
      "Got 59666/60000 with accuracy 0.9944\n",
      "---Test Accuracy---\n",
      "Got 9840/10000 with accuracy 0.984\n"
     ]
    }
   ],
   "source": [
    "accuracy(train_loader,model)\n",
    "accuracy(test_loader, model)"
   ]
  },
  {
   "cell_type": "code",
   "execution_count": 109,
   "metadata": {},
   "outputs": [],
   "source": [
    "# predict\n",
    "def predict_(test_loader, model):\n",
    "    predict = []\n",
    "    true_label = []\n",
    "    n = np.random.randint(len(test_loader))\n",
    "    i = 0\n",
    "    model.eval()\n",
    "    with torch.no_grad():\n",
    "        for x, y in test_loader:\n",
    "            x = x.to(device=device)\n",
    "            true_label = y\n",
    "            y = y.to(device=device)\n",
    "            scores = model(x)\n",
    "            _, predictions = scores.max(1)\n",
    "        \n",
    "            predict = predictions.to('cpu')\n",
    "            i+=1\n",
    "            if i == n:\n",
    "                break\n",
    "    model.train()\n",
    "    return predict, true_label\n"
   ]
  },
  {
   "cell_type": "code",
   "execution_count": 112,
   "metadata": {},
   "outputs": [
    {
     "name": "stderr",
     "output_type": "stream",
     "text": [
      "C:\\Users\\Admin\\AppData\\Local\\Temp/ipykernel_7824/3646285791.py:30: UserWarning: Implicit dimension choice for softmax has been deprecated. Change the call to include dim=X as an argument.\n",
      "  x = nn.functional.softmax(self.fc1(x))\n"
     ]
    },
    {
     "name": "stdout",
     "output_type": "stream",
     "text": [
      "---Random Predict---\n",
      "|  Number predict  |\n",
      "____________________\n",
      "|        9         |\n",
      "____________________\n",
      "|True number label |\n",
      "____________________\n",
      "|        9         |\n",
      "____________________\n",
      "        -------Wrong Predict-------\n",
      "____________________________________________\n",
      "| Predict Number    |  True Label's Number |\n",
      "____________________________________________\n",
      "|        3          |           5          |\n",
      "____________________________________________\n",
      "|        2          |           3          |\n",
      "____________________________________________\n"
     ]
    }
   ],
   "source": [
    "#Predict \n",
    "predict, true_label = predict_(test_loader, model)\n",
    "predict = [np.array(i,dtype=int) for i in predict]\n",
    "true_label = [np.array(i,dtype=int) for i in true_label]\n",
    "t = np.random.randint(len(predict))\n",
    "print(\"---Random Predict---\")\n",
    "print('|  Number predict  |')\n",
    "print('____________________')\n",
    "print(\"|\",\" \"*6 ,predict[t], \" \"* 7, \"|\")\n",
    "print('____________________')\n",
    "print('|True number label |')\n",
    "print('____________________')\n",
    "print(\"|\",\" \"*6, true_label[t],\" \"*7, \"|\")\n",
    "print('____________________')\n",
    "print(\"        -------Wrong Predict-------\")\n",
    "print(\"____________________________________________\")\n",
    "print(\"| Predict Number    |  True Label's Number |\")\n",
    "print(\"____________________________________________\")\n",
    "for i in range(batch_size):\n",
    "    if predict[i]!=true_label[i]:\n",
    "        print(\"|       \",predict[i], \"  \" *4,\"|\",\" \"* 9, true_label[i], \" \"* 8,\"|\")\n",
    "        print(\"____________________________________________\")\n",
    "\n"
   ]
  }
 ],
 "metadata": {
  "interpreter": {
   "hash": "57baa5815c940fdaff4d14510622de9616cae602444507ba5d0b6727c008cbd6"
  },
  "kernelspec": {
   "display_name": "Python 3.7.8 64-bit",
   "language": "python",
   "name": "python3"
  },
  "language_info": {
   "codemirror_mode": {
    "name": "ipython",
    "version": 3
   },
   "file_extension": ".py",
   "mimetype": "text/x-python",
   "name": "python",
   "nbconvert_exporter": "python",
   "pygments_lexer": "ipython3",
   "version": "3.8.10"
  },
  "orig_nbformat": 4
 },
 "nbformat": 4,
 "nbformat_minor": 2
}
