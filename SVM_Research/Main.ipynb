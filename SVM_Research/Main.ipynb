{
 "cells": [
  {
   "cell_type": "code",
   "execution_count": null,
   "metadata": {},
   "outputs": [],
   "source": [
    "'''\n",
    "https://drive.google.com/drive/folders/1aUHmku3Ohd_GGAdLf6E-TwKv2k4w7Wfr?usp=sharing\n",
    "'''"
   ]
  },
  {
   "cell_type": "code",
   "execution_count": 1,
   "metadata": {},
   "outputs": [],
   "source": [
    "# Các Thư Viện Cần Cho Quá Trình Train - Predict - Trực Quan Hoá Dữ Liệu\n",
    "import pandas as pd\n",
    "import numpy as np\n",
    "import torch\n",
    "import torch.nn as nn\n",
    "from torch import flatten\n",
    "from torchvision import models\n",
    "from sklearn.svm import SVC\n",
    "from sklearn.preprocessing import StandardScaler\n",
    "from sklearn.decomposition import PCA\n",
    "from sklearn.model_selection import train_test_split\n",
    "from sklearn.linear_model import LogisticRegression\n",
    "from sklearn.model_selection import GridSearchCV\n",
    "import torchvision.transforms as transforms\n",
    "from sklearn import metrics\n",
    "from sklearn.preprocessing import LabelEncoder, OneHotEncoder\n",
    "from sklearn.metrics import mean_squared_error\n",
    "from sklearn.metrics import r2_score\n",
    "from sklearn.model_selection import KFold \n",
    "from sklearn.model_selection import cross_val_score\n",
    "from sklearn.metrics import confusion_matrix, classification_report\n",
    "from sklearn.datasets import make_classification\n",
    "from sklearn.ensemble import GradientBoostingClassifier\n",
    "from sklearn.model_selection import RepeatedStratifiedKFold\n",
    "from torch.autograd import Variable\n",
    "import matplotlib.pyplot as plt\n",
    "import seaborn as sns\n",
    "import os\n",
    "from PIL import Image"
   ]
  },
  {
   "cell_type": "markdown",
   "metadata": {},
   "source": [
    "Các Quá Trình Dưới Đây Sẽ Ví Dụ Cụ Thể Chi Tiết Bắt Đầu Từ Việc:\n",
    "    1. Đọc Data\n",
    "    2. Xử Lí Data (Bao gồm các bước loại bỏ các loại data nhiễu, nhóm các  loại data, ...)\n",
    "    3.  Phân Chia Tập Train-Valid-Test\n",
    "    4. Sử dụng SVM với các Kernel khác nhau, đồng thời dùng KFold để so sánh và đánh giá kết quả thông qua quá trình Train và Predict."
   ]
  },
  {
   "cell_type": "code",
   "execution_count": 5,
   "metadata": {},
   "outputs": [
    {
     "name": "stdout",
     "output_type": "stream",
     "text": [
      "[[1. 2.]\n",
      " [1. 3.]\n",
      " [3. 0.]]\n"
     ]
    }
   ],
   "source": [
    "# Trước Hết Ta Sẽ Xem Nhiệm Vụ Chính Của SVM thông qua ví dụ dưới đây. #\n",
    "# Ta sẽ tạo 2 lớp dữ liệu, ta sẽ đặt tên cho nó là xanh và đỏ\n",
    "# 1 mảng sẽ được tạo để chứa cả 2 lớp dữ liệu \n",
    "# và 1 mảng khác dùng để label(xanh, đỏ) nhận biết lớp dữ liệu\n",
    "X1 = [[1,3], [3,3], [4,0], [3,0], [2, 2]]\n",
    "y1 = [1, 1, 1, 1, 1]\n",
    "X2 = [[0,0], [1,1], [1,2], [2,0]]\n",
    "y2 = [-1, -1, -1, -1]\n",
    "X = np.array(X1 + X2)\n",
    "y = y1 + y2\n",
    "\n",
    "clf = SVC(kernel='linear', C=1E10)\n",
    "clf.fit(X, y)\n",
    "print(clf.support_vectors_)"
   ]
  },
  {
   "cell_type": "code",
   "execution_count": 25,
   "metadata": {},
   "outputs": [
    {
     "data": {
      "image/png": "[encoded data removed]",
      "text/plain": [
       "<Figure size 432x288 with 1 Axes>"
      ]
     },
     "metadata": {
      "needs_background": "light"
     },
     "output_type": "display_data"
    }
   ],
   "source": [
    "plt.scatter(X[:, 0], X[:, 1], c=y, s=50, cmap='brg')\n",
    "# Tạo Plot\n",
    "ax = plt.gca()\n",
    "# Ta sẽ set lim auto dựa vào giá trị trong data plot\n",
    "xlim = ax.get_xlim()\n",
    "ylim = ax.get_ylim()\n",
    "\n",
    "# Vẽ các grid dự trên thông số x, y (ví dụ nếu max(x) = 5 và các giá trị trong x là số nguyên từ 1 -> 5\n",
    "# thì grid(vạch mức) sẽ được vẽ với bước nhảy dựa vào x và y)\n",
    "x = np.linspace(xlim[0], xlim[1], 30)\n",
    "y = np.linspace(ylim[0], ylim[1], 30)\n",
    "Y, X = np.meshgrid(y, x)\n",
    "######################################################\n",
    "xy = np.vstack([X.ravel(), Y.ravel()]).T \n",
    "# Vstack là dạng vertical(dọc), dữ liệu có dạng cột như\n",
    "# [[[1, 2], [tên label]],\n",
    "#  [[1, 3], [tên label]],\n",
    "#  [[3, 4], [tên label]]]                                                \n",
    "P = clf.decision_function(xy).reshape(X.shape)\n",
    "\n",
    "# plot decision boundary and margins\n",
    "ax.contour(X, Y, P, colors='k',\n",
    "            levels=[-1, 0, 1], alpha=0.5,\n",
    "            linestyles=['--', '-', '--'])\n",
    "\n",
    "# plot support vectors\n",
    "\n",
    "ax.scatter(clf.support_vectors_[:, 0],\n",
    "            clf.support_vectors_[:, 1],\n",
    "            s=300, linewidth=1, facecolors='none')\n",
    "ax.set_xlim(xlim)\n",
    "ax.set_ylim(ylim)\n",
    "\n",
    "\n",
    "plt.show()"
   ]
  },
  {
   "cell_type": "code",
   "execution_count": 92,
   "metadata": {},
   "outputs": [],
   "source": [
    "# Chay AlexNet\n",
    "model_alexnet = models.alexnet(pretrained=True)\n",
    "#model_alexnet.eval()"
   ]
  },
  {
   "cell_type": "code",
   "execution_count": 93,
   "metadata": {},
   "outputs": [
    {
     "data": {
      "text/plain": [
       "AlexNet(\n",
       "  (features): Sequential(\n",
       "    (0): Conv2d(3, 64, kernel_size=(11, 11), stride=(4, 4), padding=(2, 2))\n",
       "    (1): ReLU(inplace=True)\n",
       "    (2): MaxPool2d(kernel_size=3, stride=2, padding=0, dilation=1, ceil_mode=False)\n",
       "    (3): Conv2d(64, 192, kernel_size=(5, 5), stride=(1, 1), padding=(2, 2))\n",
       "    (4): ReLU(inplace=True)\n",
       "    (5): MaxPool2d(kernel_size=3, stride=2, padding=0, dilation=1, ceil_mode=False)\n",
       "    (6): Conv2d(192, 384, kernel_size=(3, 3), stride=(1, 1), padding=(1, 1))\n",
       "    (7): ReLU(inplace=True)\n",
       "    (8): Conv2d(384, 256, kernel_size=(3, 3), stride=(1, 1), padding=(1, 1))\n",
       "    (9): ReLU(inplace=True)\n",
       "    (10): Conv2d(256, 256, kernel_size=(3, 3), stride=(1, 1), padding=(1, 1))\n",
       "    (11): ReLU(inplace=True)\n",
       "    (12): MaxPool2d(kernel_size=3, stride=2, padding=0, dilation=1, ceil_mode=False)\n",
       "  )\n",
       "  (avgpool): AdaptiveAvgPool2d(output_size=(6, 6))\n",
       "  (classifier): Sequential(\n",
       "    (0): Dropout(p=0.5, inplace=False)\n",
       "    (1): Linear(in_features=9216, out_features=4096, bias=True)\n",
       "    (2): ReLU(inplace=True)\n",
       "    (3): Dropout(p=0.5, inplace=False)\n",
       "    (4): Linear(in_features=4096, out_features=4096, bias=True)\n",
       "    (5): ReLU(inplace=True)\n",
       "  )\n",
       ")"
      ]
     },
     "execution_count": 93,
     "metadata": {},
     "output_type": "execute_result"
    }
   ],
   "source": [
    "model_alexnet.classifier = model_alexnet.classifier[0:len(model_alexnet.classifier)-1]\n",
    "model_alexnet.eval()"
   ]
  },
  {
   "cell_type": "markdown",
   "metadata": {},
   "source": [
    "Ta sẽ sử dụng Dataset Fashion MNIST trích xuất đặc trưng bằng AlexNet trên và dùng SVM kết hợp GridSearch để đi tìm bộ siêu tham số tốt cho SVM "
   ]
  },
  {
   "cell_type": "code",
   "execution_count": 28,
   "metadata": {},
   "outputs": [],
   "source": [
    "def unpickle(file):\n",
    "  import pickle\n",
    "  with open(file, 'rb') as fo:\n",
    "      dict_ = pickle.load(fo, encoding='bytes')\n",
    "  return dict_"
   ]
  },
  {
   "cell_type": "code",
   "execution_count": 29,
   "metadata": {},
   "outputs": [],
   "source": [
    "def load_mnist(path, kind='t10k'):\n",
    "    import gzip\n",
    "    labels_path = os.path.join(path,'%s-labels-idx1-ubyte.gz'% kind)\n",
    "    images_path = os.path.join(path,'%s-images-idx3-ubyte.gz'% kind)\n",
    "    with gzip.open(labels_path, 'rb') as lbpath: labels = np.frombuffer(lbpath.read(), dtype=np.uint8,offset=8)\n",
    "\n",
    "    with gzip.open(images_path, 'rb') as imgpath:\n",
    "        images = np.frombuffer(imgpath.read(), dtype=np.uint8,offset=16).reshape(len(labels), 784)\n",
    "\n",
    "    return images, labels"
   ]
  },
  {
   "cell_type": "code",
   "execution_count": 33,
   "metadata": {},
   "outputs": [],
   "source": [
    "def load_mnist(path, kind='t10k'):\n",
    "    import os\n",
    "    import gzip\n",
    "    import numpy as np\n",
    "    labels_path = os.path.join(path,'%s-labels-idx1-ubyte.gz'% kind)\n",
    "    images_path = os.path.join(path,'%s-images-idx3-ubyte.gz'% kind)\n",
    "    with gzip.open(labels_path, 'rb') as lbpath: labels = np.frombuffer(lbpath.read(), dtype=np.uint8,offset=8)\n",
    "\n",
    "    with gzip.open(images_path, 'rb') as imgpath:\n",
    "        images = np.frombuffer(imgpath.read(), dtype=np.uint8,offset=16).reshape(len(labels), 784)\n",
    "\n",
    "    return images, labels"
   ]
  },
  {
   "cell_type": "code",
   "execution_count": 61,
   "metadata": {},
   "outputs": [],
   "source": [
    "train_images, labels = load_mnist('./dataset/',kind='train')"
   ]
  },
  {
   "cell_type": "code",
   "execution_count": 62,
   "metadata": {},
   "outputs": [],
   "source": [
    "test_images, test_labels = load_mnist('./dataset/', kind='t10k')"
   ]
  },
  {
   "cell_type": "code",
   "execution_count": 94,
   "metadata": {},
   "outputs": [
    {
     "name": "stderr",
     "output_type": "stream",
     "text": [
      "D:\\anaconda\\envs\\snowflakes\\lib\\site-packages\\torchvision\\transforms\\transforms.py:317: UserWarning: The use of the transforms.Scale transform is deprecated, please use transforms.Resize instead.\n",
      "  warnings.warn(\"The use of the transforms.Scale transform is deprecated, \" +\n"
     ]
    }
   ],
   "source": [
    "transform = transforms.Compose([\n",
    "    transforms.Scale(256),\n",
    "    transforms.CenterCrop(227),\n",
    "    transforms.ToTensor()\n",
    "])"
   ]
  },
  {
   "cell_type": "code",
   "execution_count": 96,
   "metadata": {},
   "outputs": [],
   "source": [
    "def processing(input_img): \n",
    "    img_ = np.reshape(input_img, (28,28))\n",
    "    img_pil_ = Image.fromarray(img_)\n",
    "    img_pil = Image.merge(\"RGB\",(img_pil_, img_pil_, img_pil_))\n",
    "    to_tensor = transform(img_pil)\n",
    "    to_tensor.unsqueeze_(0)\n",
    "    to_var = Variable(to_tensor)\n",
    "    to_feature = model_alexnet(to_var)\n",
    "    to_out = np.squeeze(to_feature.data)\n",
    "    return to_out"
   ]
  },
  {
   "cell_type": "code",
   "execution_count": 98,
   "metadata": {},
   "outputs": [
    {
     "name": "stdout",
     "output_type": "stream",
     "text": [
      "60000 10000\n"
     ]
    }
   ],
   "source": [
    "# load train and test\n",
    "train = []\n",
    "test = []\n",
    "for i in range(60000):\n",
    "    if i < 10000:\n",
    "        img_test = test_images[i]\n",
    "        test_feature = processing(img_test)\n",
    "        test.append(test_feature)\n",
    "    img_train = train_images[i]\n",
    "    train_feature = processing(img_train)\n",
    "    train.append(train_feature)\n",
    "print(len(train), len(test))"
   ]
  },
  {
   "cell_type": "code",
   "execution_count": 100,
   "metadata": {},
   "outputs": [],
   "source": [
    "sample = ['T-shirt/top' , 'Trouser', 'Pullover', 'Dress', 'Coat', 'Sandal', 'Shirt', 'Sneaker', 'Bag', \t'Ankle boot']"
   ]
  },
  {
   "cell_type": "code",
   "execution_count": 101,
   "metadata": {},
   "outputs": [],
   "source": [
    "# Set up parameters \n",
    "param_grid = {'C': [0.1, 1, 10, 100, 1000],\n",
    "              'gamma': [1, 0.1, 0.01, 0.001, 0.0001],\n",
    "              'kernel': ['rbf', 'sigmoid', 'linear']}"
   ]
  },
  {
   "cell_type": "code",
   "execution_count": 102,
   "metadata": {},
   "outputs": [],
   "source": [
    "train_ = [np.array(i, dtype=float) for i in train]\n",
    "test_ = [np.array(i, dtype=float) for i in test]"
   ]
  },
  {
   "cell_type": "code",
   "execution_count": 103,
   "metadata": {},
   "outputs": [],
   "source": [
    "# Chia tập train và tập tìm para\n",
    "x_train, para_x, y_train, para_y = train_test_split(train_, labels, test_size=0.1, random_state=19520197)"
   ]
  },
  {
   "cell_type": "code",
   "execution_count": 104,
   "metadata": {},
   "outputs": [],
   "source": [
    "para_x_train, para_x_test, para_y_train, para_y_test = train_test_split(para_x, para_y, test_size=0.2, random_state=19521281)"
   ]
  },
  {
   "cell_type": "code",
   "execution_count": 105,
   "metadata": {},
   "outputs": [
    {
     "name": "stdout",
     "output_type": "stream",
     "text": [
      "Fitting 5 folds for each of 75 candidates, totalling 375 fits\n",
      "[CV 1/5] END ........C=0.1, gamma=1, kernel=rbf;, score=0.106 total time= 1.9min\n",
      "[CV 2/5] END ........C=0.1, gamma=1, kernel=rbf;, score=0.106 total time= 1.9min\n",
      "[CV 3/5] END ........C=0.1, gamma=1, kernel=rbf;, score=0.106 total time= 2.2min\n",
      "[CV 4/5] END ........C=0.1, gamma=1, kernel=rbf;, score=0.107 total time= 2.2min\n",
      "[CV 5/5] END ........C=0.1, gamma=1, kernel=rbf;, score=0.107 total time= 1.8min\n",
      "[CV 1/5] END ....C=0.1, gamma=1, kernel=sigmoid;, score=0.106 total time= 1.2min\n",
      "[CV 2/5] END ....C=0.1, gamma=1, kernel=sigmoid;, score=0.106 total time= 1.2min\n",
      "[CV 3/5] END ....C=0.1, gamma=1, kernel=sigmoid;, score=0.106 total time= 1.2min\n",
      "[CV 4/5] END ....C=0.1, gamma=1, kernel=sigmoid;, score=0.107 total time= 1.2min\n",
      "[CV 5/5] END ....C=0.1, gamma=1, kernel=sigmoid;, score=0.107 total time= 1.2min\n",
      "[CV 1/5] END .....C=0.1, gamma=1, kernel=linear;, score=0.828 total time=  11.9s\n",
      "[CV 2/5] END .....C=0.1, gamma=1, kernel=linear;, score=0.824 total time=  12.3s\n",
      "[CV 3/5] END .....C=0.1, gamma=1, kernel=linear;, score=0.844 total time=  12.1s\n",
      "[CV 4/5] END .....C=0.1, gamma=1, kernel=linear;, score=0.826 total time=  11.6s\n",
      "[CV 5/5] END .....C=0.1, gamma=1, kernel=linear;, score=0.846 total time=  11.7s\n",
      "[CV 1/5] END ......C=0.1, gamma=0.1, kernel=rbf;, score=0.106 total time= 1.8min\n",
      "[CV 2/5] END ......C=0.1, gamma=0.1, kernel=rbf;, score=0.106 total time= 1.8min\n",
      "[CV 3/5] END ......C=0.1, gamma=0.1, kernel=rbf;, score=0.106 total time= 1.9min\n",
      "[CV 4/5] END ......C=0.1, gamma=0.1, kernel=rbf;, score=0.107 total time= 1.8min\n",
      "[CV 5/5] END ......C=0.1, gamma=0.1, kernel=rbf;, score=0.107 total time= 1.9min\n",
      "[CV 1/5] END ..C=0.1, gamma=0.1, kernel=sigmoid;, score=0.106 total time= 1.3min\n",
      "[CV 2/5] END ..C=0.1, gamma=0.1, kernel=sigmoid;, score=0.106 total time= 1.2min\n",
      "[CV 3/5] END ..C=0.1, gamma=0.1, kernel=sigmoid;, score=0.106 total time= 1.2min\n",
      "[CV 4/5] END ..C=0.1, gamma=0.1, kernel=sigmoid;, score=0.107 total time= 1.3min\n",
      "[CV 5/5] END ..C=0.1, gamma=0.1, kernel=sigmoid;, score=0.107 total time= 1.1min\n",
      "[CV 1/5] END ...C=0.1, gamma=0.1, kernel=linear;, score=0.828 total time=  11.4s\n",
      "[CV 2/5] END ...C=0.1, gamma=0.1, kernel=linear;, score=0.824 total time=  11.1s\n",
      "[CV 3/5] END ...C=0.1, gamma=0.1, kernel=linear;, score=0.844 total time=  11.7s\n",
      "[CV 4/5] END ...C=0.1, gamma=0.1, kernel=linear;, score=0.826 total time=  12.2s\n",
      "[CV 5/5] END ...C=0.1, gamma=0.1, kernel=linear;, score=0.846 total time=  11.1s\n",
      "[CV 1/5] END .....C=0.1, gamma=0.01, kernel=rbf;, score=0.351 total time= 1.6min\n",
      "[CV 2/5] END .....C=0.1, gamma=0.01, kernel=rbf;, score=0.354 total time= 1.6min\n",
      "[CV 3/5] END .....C=0.1, gamma=0.01, kernel=rbf;, score=0.365 total time= 1.7min\n",
      "[CV 4/5] END .....C=0.1, gamma=0.01, kernel=rbf;, score=0.379 total time= 1.7min\n",
      "[CV 5/5] END .....C=0.1, gamma=0.01, kernel=rbf;, score=0.430 total time= 2.0min\n",
      "[CV 1/5] END .C=0.1, gamma=0.01, kernel=sigmoid;, score=0.106 total time= 1.4min\n",
      "[CV 2/5] END .C=0.1, gamma=0.01, kernel=sigmoid;, score=0.106 total time= 1.4min\n",
      "[CV 3/5] END .C=0.1, gamma=0.01, kernel=sigmoid;, score=0.106 total time= 1.4min\n",
      "[CV 4/5] END .C=0.1, gamma=0.01, kernel=sigmoid;, score=0.107 total time= 1.3min\n",
      "[CV 5/5] END .C=0.1, gamma=0.01, kernel=sigmoid;, score=0.107 total time= 1.4min\n",
      "[CV 1/5] END ..C=0.1, gamma=0.01, kernel=linear;, score=0.828 total time=  14.1s\n",
      "[CV 2/5] END ..C=0.1, gamma=0.01, kernel=linear;, score=0.824 total time=  14.2s\n",
      "[CV 3/5] END ..C=0.1, gamma=0.01, kernel=linear;, score=0.844 total time=  14.0s\n",
      "[CV 4/5] END ..C=0.1, gamma=0.01, kernel=linear;, score=0.826 total time=  13.8s\n",
      "[CV 5/5] END ..C=0.1, gamma=0.01, kernel=linear;, score=0.846 total time=  14.2s\n",
      "[CV 1/5] END ....C=0.1, gamma=0.001, kernel=rbf;, score=0.796 total time= 1.1min\n",
      "[CV 2/5] END ....C=0.1, gamma=0.001, kernel=rbf;, score=0.797 total time= 1.1min\n",
      "[CV 3/5] END ....C=0.1, gamma=0.001, kernel=rbf;, score=0.773 total time= 1.1min\n",
      "[CV 4/5] END ....C=0.1, gamma=0.001, kernel=rbf;, score=0.787 total time= 1.6min\n",
      "[CV 5/5] END ....C=0.1, gamma=0.001, kernel=rbf;, score=0.786 total time= 1.2min\n",
      "[CV 1/5] END C=0.1, gamma=0.001, kernel=sigmoid;, score=0.527 total time= 1.0min\n",
      "[CV 2/5] END C=0.1, gamma=0.001, kernel=sigmoid;, score=0.546 total time= 1.1min\n",
      "[CV 3/5] END C=0.1, gamma=0.001, kernel=sigmoid;, score=0.524 total time= 1.1min\n",
      "[CV 4/5] END C=0.1, gamma=0.001, kernel=sigmoid;, score=0.531 total time= 1.0min\n",
      "[CV 5/5] END C=0.1, gamma=0.001, kernel=sigmoid;, score=0.540 total time= 1.0min\n",
      "[CV 1/5] END .C=0.1, gamma=0.001, kernel=linear;, score=0.828 total time=  13.9s\n",
      "[CV 2/5] END .C=0.1, gamma=0.001, kernel=linear;, score=0.824 total time=  13.6s\n",
      "[CV 3/5] END .C=0.1, gamma=0.001, kernel=linear;, score=0.844 total time=  14.9s\n",
      "[CV 4/5] END .C=0.1, gamma=0.001, kernel=linear;, score=0.826 total time=  13.7s\n",
      "[CV 5/5] END .C=0.1, gamma=0.001, kernel=linear;, score=0.846 total time=  13.9s\n",
      "[CV 1/5] END ...C=0.1, gamma=0.0001, kernel=rbf;, score=0.710 total time= 1.6min\n",
      "[CV 2/5] END ...C=0.1, gamma=0.0001, kernel=rbf;, score=0.703 total time= 1.6min\n",
      "[CV 3/5] END ...C=0.1, gamma=0.0001, kernel=rbf;, score=0.695 total time= 1.7min\n",
      "[CV 4/5] END ...C=0.1, gamma=0.0001, kernel=rbf;, score=0.714 total time= 1.6min\n",
      "[CV 5/5] END ...C=0.1, gamma=0.0001, kernel=rbf;, score=0.690 total time= 1.6min\n",
      "[CV 1/5] END C=0.1, gamma=0.0001, kernel=sigmoid;, score=0.607 total time= 1.1min\n",
      "[CV 2/5] END C=0.1, gamma=0.0001, kernel=sigmoid;, score=0.600 total time=  52.3s\n",
      "[CV 3/5] END C=0.1, gamma=0.0001, kernel=sigmoid;, score=0.600 total time=  41.5s\n",
      "[CV 4/5] END C=0.1, gamma=0.0001, kernel=sigmoid;, score=0.595 total time=  41.8s\n",
      "[CV 5/5] END C=0.1, gamma=0.0001, kernel=sigmoid;, score=0.606 total time=  40.9s\n",
      "[CV 1/5] END C=0.1, gamma=0.0001, kernel=linear;, score=0.828 total time=   8.9s\n",
      "[CV 2/5] END C=0.1, gamma=0.0001, kernel=linear;, score=0.824 total time=   9.7s\n",
      "[CV 3/5] END C=0.1, gamma=0.0001, kernel=linear;, score=0.844 total time=   9.1s\n",
      "[CV 4/5] END C=0.1, gamma=0.0001, kernel=linear;, score=0.826 total time=   8.9s\n",
      "[CV 5/5] END C=0.1, gamma=0.0001, kernel=linear;, score=0.846 total time=   9.0s\n",
      "[CV 1/5] END ..........C=1, gamma=1, kernel=rbf;, score=0.106 total time= 1.4min\n",
      "[CV 2/5] END ..........C=1, gamma=1, kernel=rbf;, score=0.106 total time= 1.5min\n",
      "[CV 3/5] END ..........C=1, gamma=1, kernel=rbf;, score=0.106 total time= 1.4min\n",
      "[CV 4/5] END ..........C=1, gamma=1, kernel=rbf;, score=0.107 total time= 1.4min\n",
      "[CV 5/5] END ..........C=1, gamma=1, kernel=rbf;, score=0.107 total time= 1.4min\n",
      "[CV 1/5] END ......C=1, gamma=1, kernel=sigmoid;, score=0.106 total time=  51.4s\n",
      "[CV 2/5] END ......C=1, gamma=1, kernel=sigmoid;, score=0.106 total time=  51.2s\n",
      "[CV 3/5] END ......C=1, gamma=1, kernel=sigmoid;, score=0.106 total time=  50.5s\n",
      "[CV 4/5] END ......C=1, gamma=1, kernel=sigmoid;, score=0.107 total time=  51.1s\n",
      "[CV 5/5] END ......C=1, gamma=1, kernel=sigmoid;, score=0.107 total time=  53.2s\n",
      "[CV 1/5] END .......C=1, gamma=1, kernel=linear;, score=0.818 total time=   9.7s\n",
      "[CV 2/5] END .......C=1, gamma=1, kernel=linear;, score=0.829 total time=   9.2s\n",
      "[CV 3/5] END .......C=1, gamma=1, kernel=linear;, score=0.836 total time=   9.1s\n",
      "[CV 4/5] END .......C=1, gamma=1, kernel=linear;, score=0.830 total time=   9.0s\n",
      "[CV 5/5] END .......C=1, gamma=1, kernel=linear;, score=0.844 total time=   9.0s\n",
      "[CV 1/5] END ........C=1, gamma=0.1, kernel=rbf;, score=0.141 total time= 1.4min\n",
      "[CV 2/5] END ........C=1, gamma=0.1, kernel=rbf;, score=0.142 total time= 1.4min\n",
      "[CV 3/5] END ........C=1, gamma=0.1, kernel=rbf;, score=0.125 total time= 1.4min\n",
      "[CV 4/5] END ........C=1, gamma=0.1, kernel=rbf;, score=0.146 total time= 1.4min\n",
      "[CV 5/5] END ........C=1, gamma=0.1, kernel=rbf;, score=0.134 total time= 1.4min\n",
      "[CV 1/5] END ....C=1, gamma=0.1, kernel=sigmoid;, score=0.106 total time=  50.6s\n",
      "[CV 2/5] END ....C=1, gamma=0.1, kernel=sigmoid;, score=0.106 total time=  51.2s\n",
      "[CV 3/5] END ....C=1, gamma=0.1, kernel=sigmoid;, score=0.106 total time=  50.9s\n",
      "[CV 4/5] END ....C=1, gamma=0.1, kernel=sigmoid;, score=0.107 total time=  50.4s\n",
      "[CV 5/5] END ....C=1, gamma=0.1, kernel=sigmoid;, score=0.107 total time=  50.5s\n",
      "[CV 1/5] END .....C=1, gamma=0.1, kernel=linear;, score=0.818 total time=   8.9s\n",
      "[CV 2/5] END .....C=1, gamma=0.1, kernel=linear;, score=0.829 total time=   9.2s\n",
      "[CV 3/5] END .....C=1, gamma=0.1, kernel=linear;, score=0.836 total time=   9.1s\n",
      "[CV 4/5] END .....C=1, gamma=0.1, kernel=linear;, score=0.830 total time=   9.0s\n",
      "[CV 5/5] END .....C=1, gamma=0.1, kernel=linear;, score=0.844 total time=   9.0s\n",
      "[CV 1/5] END .......C=1, gamma=0.01, kernel=rbf;, score=0.742 total time= 1.3min\n",
      "[CV 2/5] END .......C=1, gamma=0.01, kernel=rbf;, score=0.729 total time= 1.3min\n",
      "[CV 3/5] END .......C=1, gamma=0.01, kernel=rbf;, score=0.718 total time= 1.3min\n",
      "[CV 4/5] END .......C=1, gamma=0.01, kernel=rbf;, score=0.733 total time= 1.3min\n",
      "[CV 5/5] END .......C=1, gamma=0.01, kernel=rbf;, score=0.736 total time= 1.3min\n",
      "[CV 1/5] END ...C=1, gamma=0.01, kernel=sigmoid;, score=0.106 total time=  56.1s\n",
      "[CV 2/5] END ...C=1, gamma=0.01, kernel=sigmoid;, score=0.106 total time=  56.0s\n",
      "[CV 3/5] END ...C=1, gamma=0.01, kernel=sigmoid;, score=0.106 total time=  55.6s\n",
      "[CV 4/5] END ...C=1, gamma=0.01, kernel=sigmoid;, score=0.107 total time=  55.9s\n",
      "[CV 5/5] END ...C=1, gamma=0.01, kernel=sigmoid;, score=0.107 total time=  56.1s\n",
      "[CV 1/5] END ....C=1, gamma=0.01, kernel=linear;, score=0.818 total time=   9.5s\n",
      "[CV 2/5] END ....C=1, gamma=0.01, kernel=linear;, score=0.829 total time=   9.5s\n",
      "[CV 3/5] END ....C=1, gamma=0.01, kernel=linear;, score=0.836 total time=  10.0s\n",
      "[CV 4/5] END ....C=1, gamma=0.01, kernel=linear;, score=0.830 total time=   9.4s\n",
      "[CV 5/5] END ....C=1, gamma=0.01, kernel=linear;, score=0.844 total time=   9.6s\n",
      "[CV 1/5] END ......C=1, gamma=0.001, kernel=rbf;, score=0.830 total time=  31.5s\n",
      "[CV 2/5] END ......C=1, gamma=0.001, kernel=rbf;, score=0.830 total time=  32.0s\n",
      "[CV 3/5] END ......C=1, gamma=0.001, kernel=rbf;, score=0.829 total time=  31.4s\n",
      "[CV 4/5] END ......C=1, gamma=0.001, kernel=rbf;, score=0.825 total time=  32.2s\n",
      "[CV 5/5] END ......C=1, gamma=0.001, kernel=rbf;, score=0.836 total time=  31.8s\n",
      "[CV 1/5] END ..C=1, gamma=0.001, kernel=sigmoid;, score=0.654 total time=  24.1s\n",
      "[CV 2/5] END ..C=1, gamma=0.001, kernel=sigmoid;, score=0.660 total time=  23.5s\n",
      "[CV 3/5] END ..C=1, gamma=0.001, kernel=sigmoid;, score=0.639 total time=  23.8s\n",
      "[CV 4/5] END ..C=1, gamma=0.001, kernel=sigmoid;, score=0.666 total time=  24.2s\n",
      "[CV 5/5] END ..C=1, gamma=0.001, kernel=sigmoid;, score=0.652 total time=  23.9s\n",
      "[CV 1/5] END ...C=1, gamma=0.001, kernel=linear;, score=0.818 total time=   9.6s\n",
      "[CV 2/5] END ...C=1, gamma=0.001, kernel=linear;, score=0.829 total time=   9.5s\n",
      "[CV 3/5] END ...C=1, gamma=0.001, kernel=linear;, score=0.836 total time=   9.9s\n",
      "[CV 4/5] END ...C=1, gamma=0.001, kernel=linear;, score=0.830 total time=   9.4s\n",
      "[CV 5/5] END ...C=1, gamma=0.001, kernel=linear;, score=0.844 total time=   9.7s\n",
      "[CV 1/5] END .....C=1, gamma=0.0001, kernel=rbf;, score=0.803 total time=  40.4s\n",
      "[CV 2/5] END .....C=1, gamma=0.0001, kernel=rbf;, score=0.804 total time=  40.0s\n",
      "[CV 3/5] END .....C=1, gamma=0.0001, kernel=rbf;, score=0.784 total time=  40.4s\n",
      "[CV 4/5] END .....C=1, gamma=0.0001, kernel=rbf;, score=0.791 total time=  39.7s\n",
      "[CV 5/5] END .....C=1, gamma=0.0001, kernel=rbf;, score=0.793 total time=  40.4s\n",
      "[CV 1/5] END .C=1, gamma=0.0001, kernel=sigmoid;, score=0.786 total time=  21.3s\n",
      "[CV 2/5] END .C=1, gamma=0.0001, kernel=sigmoid;, score=0.786 total time=  21.6s\n",
      "[CV 3/5] END .C=1, gamma=0.0001, kernel=sigmoid;, score=0.766 total time=  21.3s\n",
      "[CV 4/5] END .C=1, gamma=0.0001, kernel=sigmoid;, score=0.774 total time=  21.3s\n",
      "[CV 5/5] END .C=1, gamma=0.0001, kernel=sigmoid;, score=0.772 total time=  21.5s\n",
      "[CV 1/5] END ..C=1, gamma=0.0001, kernel=linear;, score=0.818 total time=   9.7s\n",
      "[CV 2/5] END ..C=1, gamma=0.0001, kernel=linear;, score=0.829 total time=   9.5s\n",
      "[CV 3/5] END ..C=1, gamma=0.0001, kernel=linear;, score=0.836 total time=   9.6s\n",
      "[CV 4/5] END ..C=1, gamma=0.0001, kernel=linear;, score=0.830 total time=   9.5s\n",
      "[CV 5/5] END ..C=1, gamma=0.0001, kernel=linear;, score=0.844 total time=   9.7s\n",
      "[CV 1/5] END .........C=10, gamma=1, kernel=rbf;, score=0.106 total time= 1.5min\n",
      "[CV 2/5] END .........C=10, gamma=1, kernel=rbf;, score=0.106 total time= 1.5min\n",
      "[CV 3/5] END .........C=10, gamma=1, kernel=rbf;, score=0.106 total time= 1.5min\n",
      "[CV 4/5] END .........C=10, gamma=1, kernel=rbf;, score=0.107 total time= 1.5min\n",
      "[CV 5/5] END .........C=10, gamma=1, kernel=rbf;, score=0.107 total time= 1.5min\n",
      "[CV 1/5] END .....C=10, gamma=1, kernel=sigmoid;, score=0.106 total time=  54.7s\n",
      "[CV 2/5] END .....C=10, gamma=1, kernel=sigmoid;, score=0.106 total time=  55.0s\n",
      "[CV 3/5] END .....C=10, gamma=1, kernel=sigmoid;, score=0.106 total time=  54.6s\n",
      "[CV 4/5] END .....C=10, gamma=1, kernel=sigmoid;, score=0.107 total time=  54.5s\n",
      "[CV 5/5] END .....C=10, gamma=1, kernel=sigmoid;, score=0.107 total time=  55.4s\n",
      "[CV 1/5] END ......C=10, gamma=1, kernel=linear;, score=0.818 total time=   9.8s\n",
      "[CV 2/5] END ......C=10, gamma=1, kernel=linear;, score=0.829 total time=   9.7s\n",
      "[CV 3/5] END ......C=10, gamma=1, kernel=linear;, score=0.836 total time=   9.5s\n",
      "[CV 4/5] END ......C=10, gamma=1, kernel=linear;, score=0.830 total time=   9.5s\n",
      "[CV 5/5] END ......C=10, gamma=1, kernel=linear;, score=0.844 total time=   9.6s\n",
      "[CV 1/5] END .......C=10, gamma=0.1, kernel=rbf;, score=0.150 total time= 1.5min\n",
      "[CV 2/5] END .......C=10, gamma=0.1, kernel=rbf;, score=0.149 total time= 1.5min\n",
      "[CV 3/5] END .......C=10, gamma=0.1, kernel=rbf;, score=0.130 total time= 1.5min\n",
      "[CV 4/5] END .......C=10, gamma=0.1, kernel=rbf;, score=0.151 total time= 1.5min\n",
      "[CV 5/5] END .......C=10, gamma=0.1, kernel=rbf;, score=0.141 total time= 1.5min\n",
      "[CV 1/5] END ...C=10, gamma=0.1, kernel=sigmoid;, score=0.106 total time=  55.0s\n",
      "[CV 2/5] END ...C=10, gamma=0.1, kernel=sigmoid;, score=0.106 total time=  54.6s\n",
      "[CV 3/5] END ...C=10, gamma=0.1, kernel=sigmoid;, score=0.106 total time=  54.6s\n",
      "[CV 4/5] END ...C=10, gamma=0.1, kernel=sigmoid;, score=0.107 total time=  55.3s\n",
      "[CV 5/5] END ...C=10, gamma=0.1, kernel=sigmoid;, score=0.107 total time=  55.3s\n",
      "[CV 1/5] END ....C=10, gamma=0.1, kernel=linear;, score=0.818 total time=   9.6s\n",
      "[CV 2/5] END ....C=10, gamma=0.1, kernel=linear;, score=0.829 total time=   9.6s\n",
      "[CV 3/5] END ....C=10, gamma=0.1, kernel=linear;, score=0.836 total time=   9.9s\n",
      "[CV 4/5] END ....C=10, gamma=0.1, kernel=linear;, score=0.830 total time=   9.5s\n",
      "[CV 5/5] END ....C=10, gamma=0.1, kernel=linear;, score=0.844 total time=   9.6s\n",
      "[CV 1/5] END ......C=10, gamma=0.01, kernel=rbf;, score=0.751 total time= 1.3min\n",
      "[CV 2/5] END ......C=10, gamma=0.01, kernel=rbf;, score=0.741 total time= 1.3min\n",
      "[CV 3/5] END ......C=10, gamma=0.01, kernel=rbf;, score=0.731 total time= 1.3min\n",
      "[CV 4/5] END ......C=10, gamma=0.01, kernel=rbf;, score=0.746 total time= 1.3min\n",
      "[CV 5/5] END ......C=10, gamma=0.01, kernel=rbf;, score=0.744 total time= 1.3min\n",
      "[CV 1/5] END ..C=10, gamma=0.01, kernel=sigmoid;, score=0.106 total time=  56.3s\n",
      "[CV 2/5] END ..C=10, gamma=0.01, kernel=sigmoid;, score=0.106 total time=  55.9s\n",
      "[CV 3/5] END ..C=10, gamma=0.01, kernel=sigmoid;, score=0.106 total time=  55.4s\n",
      "[CV 4/5] END ..C=10, gamma=0.01, kernel=sigmoid;, score=0.107 total time=  55.8s\n",
      "[CV 5/5] END ..C=10, gamma=0.01, kernel=sigmoid;, score=0.107 total time=  55.9s\n",
      "[CV 1/5] END ...C=10, gamma=0.01, kernel=linear;, score=0.818 total time=   9.5s\n",
      "[CV 2/5] END ...C=10, gamma=0.01, kernel=linear;, score=0.829 total time=   9.6s\n",
      "[CV 3/5] END ...C=10, gamma=0.01, kernel=linear;, score=0.836 total time=   9.9s\n",
      "[CV 4/5] END ...C=10, gamma=0.01, kernel=linear;, score=0.830 total time=   9.5s\n",
      "[CV 5/5] END ...C=10, gamma=0.01, kernel=linear;, score=0.844 total time=   9.7s\n",
      "[CV 1/5] END .....C=10, gamma=0.001, kernel=rbf;, score=0.845 total time=  30.2s\n",
      "[CV 2/5] END .....C=10, gamma=0.001, kernel=rbf;, score=0.847 total time=  30.5s\n",
      "[CV 3/5] END .....C=10, gamma=0.001, kernel=rbf;, score=0.845 total time=  30.3s\n",
      "[CV 4/5] END .....C=10, gamma=0.001, kernel=rbf;, score=0.843 total time=  30.2s\n",
      "[CV 5/5] END .....C=10, gamma=0.001, kernel=rbf;, score=0.866 total time=  30.5s\n",
      "[CV 1/5] END .C=10, gamma=0.001, kernel=sigmoid;, score=0.567 total time=  13.3s\n",
      "[CV 2/5] END .C=10, gamma=0.001, kernel=sigmoid;, score=0.543 total time=  13.5s\n",
      "[CV 3/5] END .C=10, gamma=0.001, kernel=sigmoid;, score=0.546 total time=  13.5s\n",
      "[CV 4/5] END .C=10, gamma=0.001, kernel=sigmoid;, score=0.553 total time=  13.1s\n",
      "[CV 5/5] END .C=10, gamma=0.001, kernel=sigmoid;, score=0.570 total time=  13.3s\n",
      "[CV 1/5] END ..C=10, gamma=0.001, kernel=linear;, score=0.818 total time=   9.6s\n",
      "[CV 2/5] END ..C=10, gamma=0.001, kernel=linear;, score=0.829 total time=   9.9s\n",
      "[CV 3/5] END ..C=10, gamma=0.001, kernel=linear;, score=0.836 total time=  10.1s\n",
      "[CV 4/5] END ..C=10, gamma=0.001, kernel=linear;, score=0.830 total time=   9.5s\n",
      "[CV 5/5] END ..C=10, gamma=0.001, kernel=linear;, score=0.844 total time=   9.6s\n",
      "[CV 1/5] END ....C=10, gamma=0.0001, kernel=rbf;, score=0.828 total time=  26.9s\n",
      "[CV 2/5] END ....C=10, gamma=0.0001, kernel=rbf;, score=0.838 total time=  27.2s\n",
      "[CV 3/5] END ....C=10, gamma=0.0001, kernel=rbf;, score=0.834 total time=  27.0s\n",
      "[CV 4/5] END ....C=10, gamma=0.0001, kernel=rbf;, score=0.830 total time=  26.9s\n",
      "[CV 5/5] END ....C=10, gamma=0.0001, kernel=rbf;, score=0.844 total time=  27.9s\n",
      "[CV 1/5] END C=10, gamma=0.0001, kernel=sigmoid;, score=0.827 total time=  12.2s\n",
      "[CV 2/5] END C=10, gamma=0.0001, kernel=sigmoid;, score=0.832 total time=  12.3s\n",
      "[CV 3/5] END C=10, gamma=0.0001, kernel=sigmoid;, score=0.826 total time=  12.5s\n",
      "[CV 4/5] END C=10, gamma=0.0001, kernel=sigmoid;, score=0.816 total time=  12.0s\n",
      "[CV 5/5] END C=10, gamma=0.0001, kernel=sigmoid;, score=0.830 total time=  12.4s\n",
      "[CV 1/5] END .C=10, gamma=0.0001, kernel=linear;, score=0.818 total time=   9.5s\n",
      "[CV 2/5] END .C=10, gamma=0.0001, kernel=linear;, score=0.829 total time=   9.8s\n",
      "[CV 3/5] END .C=10, gamma=0.0001, kernel=linear;, score=0.836 total time=   9.6s\n",
      "[CV 4/5] END .C=10, gamma=0.0001, kernel=linear;, score=0.830 total time=   9.7s\n",
      "[CV 5/5] END .C=10, gamma=0.0001, kernel=linear;, score=0.844 total time=   9.9s\n",
      "[CV 1/5] END ........C=100, gamma=1, kernel=rbf;, score=0.106 total time= 1.5min\n",
      "[CV 2/5] END ........C=100, gamma=1, kernel=rbf;, score=0.106 total time= 1.5min\n",
      "[CV 3/5] END ........C=100, gamma=1, kernel=rbf;, score=0.106 total time= 1.5min\n",
      "[CV 4/5] END ........C=100, gamma=1, kernel=rbf;, score=0.107 total time= 1.5min\n",
      "[CV 5/5] END ........C=100, gamma=1, kernel=rbf;, score=0.107 total time= 1.5min\n",
      "[CV 1/5] END ....C=100, gamma=1, kernel=sigmoid;, score=0.106 total time=  54.5s\n",
      "[CV 2/5] END ....C=100, gamma=1, kernel=sigmoid;, score=0.106 total time=  54.5s\n",
      "[CV 3/5] END ....C=100, gamma=1, kernel=sigmoid;, score=0.106 total time=  54.8s\n",
      "[CV 4/5] END ....C=100, gamma=1, kernel=sigmoid;, score=0.107 total time=  55.1s\n",
      "[CV 5/5] END ....C=100, gamma=1, kernel=sigmoid;, score=0.107 total time=  54.8s\n",
      "[CV 1/5] END .....C=100, gamma=1, kernel=linear;, score=0.818 total time=   9.5s\n",
      "[CV 2/5] END .....C=100, gamma=1, kernel=linear;, score=0.829 total time=   9.5s\n",
      "[CV 3/5] END .....C=100, gamma=1, kernel=linear;, score=0.836 total time=   9.5s\n",
      "[CV 4/5] END .....C=100, gamma=1, kernel=linear;, score=0.830 total time=   9.4s\n",
      "[CV 5/5] END .....C=100, gamma=1, kernel=linear;, score=0.844 total time=   9.9s\n",
      "[CV 1/5] END ......C=100, gamma=0.1, kernel=rbf;, score=0.150 total time= 1.5min\n",
      "[CV 2/5] END ......C=100, gamma=0.1, kernel=rbf;, score=0.149 total time= 1.5min\n",
      "[CV 3/5] END ......C=100, gamma=0.1, kernel=rbf;, score=0.130 total time= 1.5min\n",
      "[CV 4/5] END ......C=100, gamma=0.1, kernel=rbf;, score=0.151 total time= 1.5min\n",
      "[CV 5/5] END ......C=100, gamma=0.1, kernel=rbf;, score=0.141 total time= 1.5min\n",
      "[CV 1/5] END ..C=100, gamma=0.1, kernel=sigmoid;, score=0.106 total time=  54.7s\n",
      "[CV 2/5] END ..C=100, gamma=0.1, kernel=sigmoid;, score=0.106 total time=  54.8s\n",
      "[CV 3/5] END ..C=100, gamma=0.1, kernel=sigmoid;, score=0.106 total time=  54.7s\n",
      "[CV 4/5] END ..C=100, gamma=0.1, kernel=sigmoid;, score=0.107 total time=  55.0s\n",
      "[CV 5/5] END ..C=100, gamma=0.1, kernel=sigmoid;, score=0.107 total time=  55.0s\n",
      "[CV 1/5] END ...C=100, gamma=0.1, kernel=linear;, score=0.818 total time=   9.9s\n",
      "[CV 2/5] END ...C=100, gamma=0.1, kernel=linear;, score=0.829 total time=   9.5s\n",
      "[CV 3/5] END ...C=100, gamma=0.1, kernel=linear;, score=0.836 total time=   9.8s\n",
      "[CV 4/5] END ...C=100, gamma=0.1, kernel=linear;, score=0.830 total time=   9.9s\n",
      "[CV 5/5] END ...C=100, gamma=0.1, kernel=linear;, score=0.844 total time=   9.6s\n",
      "[CV 1/5] END .....C=100, gamma=0.01, kernel=rbf;, score=0.751 total time= 1.3min\n",
      "[CV 2/5] END .....C=100, gamma=0.01, kernel=rbf;, score=0.741 total time= 1.3min\n",
      "[CV 3/5] END .....C=100, gamma=0.01, kernel=rbf;, score=0.731 total time= 1.3min\n",
      "[CV 4/5] END .....C=100, gamma=0.01, kernel=rbf;, score=0.746 total time= 1.3min\n",
      "[CV 5/5] END .....C=100, gamma=0.01, kernel=rbf;, score=0.744 total time= 1.3min\n",
      "[CV 1/5] END .C=100, gamma=0.01, kernel=sigmoid;, score=0.106 total time=  55.7s\n",
      "[CV 2/5] END .C=100, gamma=0.01, kernel=sigmoid;, score=0.106 total time=  55.7s\n",
      "[CV 3/5] END .C=100, gamma=0.01, kernel=sigmoid;, score=0.106 total time=  55.6s\n",
      "[CV 4/5] END .C=100, gamma=0.01, kernel=sigmoid;, score=0.107 total time=  55.6s\n",
      "[CV 5/5] END .C=100, gamma=0.01, kernel=sigmoid;, score=0.107 total time=  55.5s\n",
      "[CV 1/5] END ..C=100, gamma=0.01, kernel=linear;, score=0.818 total time=   9.5s\n",
      "[CV 2/5] END ..C=100, gamma=0.01, kernel=linear;, score=0.829 total time=   9.5s\n",
      "[CV 3/5] END ..C=100, gamma=0.01, kernel=linear;, score=0.836 total time=   9.5s\n",
      "[CV 4/5] END ..C=100, gamma=0.01, kernel=linear;, score=0.830 total time=   9.4s\n",
      "[CV 5/5] END ..C=100, gamma=0.01, kernel=linear;, score=0.844 total time=   9.5s\n",
      "[CV 1/5] END ....C=100, gamma=0.001, kernel=rbf;, score=0.846 total time=  31.4s\n",
      "[CV 2/5] END ....C=100, gamma=0.001, kernel=rbf;, score=0.833 total time=  31.0s\n",
      "[CV 3/5] END ....C=100, gamma=0.001, kernel=rbf;, score=0.848 total time=  31.1s\n",
      "[CV 4/5] END ....C=100, gamma=0.001, kernel=rbf;, score=0.853 total time=  30.8s\n",
      "[CV 5/5] END ....C=100, gamma=0.001, kernel=rbf;, score=0.860 total time=  31.8s\n",
      "[CV 1/5] END C=100, gamma=0.001, kernel=sigmoid;, score=0.608 total time=   9.6s\n",
      "[CV 2/5] END C=100, gamma=0.001, kernel=sigmoid;, score=0.582 total time=   9.7s\n",
      "[CV 3/5] END C=100, gamma=0.001, kernel=sigmoid;, score=0.576 total time=   9.7s\n",
      "[CV 4/5] END C=100, gamma=0.001, kernel=sigmoid;, score=0.555 total time=  10.4s\n",
      "[CV 5/5] END C=100, gamma=0.001, kernel=sigmoid;, score=0.598 total time=   9.3s\n",
      "[CV 1/5] END .C=100, gamma=0.001, kernel=linear;, score=0.818 total time=   9.7s\n",
      "[CV 2/5] END .C=100, gamma=0.001, kernel=linear;, score=0.829 total time=   9.5s\n",
      "[CV 3/5] END .C=100, gamma=0.001, kernel=linear;, score=0.836 total time=   9.6s\n",
      "[CV 4/5] END .C=100, gamma=0.001, kernel=linear;, score=0.830 total time=   9.5s\n",
      "[CV 5/5] END .C=100, gamma=0.001, kernel=linear;, score=0.844 total time=   9.6s\n",
      "[CV 1/5] END ...C=100, gamma=0.0001, kernel=rbf;, score=0.835 total time=  24.3s\n",
      "[CV 2/5] END ...C=100, gamma=0.0001, kernel=rbf;, score=0.840 total time=  25.0s\n",
      "[CV 3/5] END ...C=100, gamma=0.0001, kernel=rbf;, score=0.844 total time=  24.5s\n",
      "[CV 4/5] END ...C=100, gamma=0.0001, kernel=rbf;, score=0.841 total time=  24.4s\n",
      "[CV 5/5] END ...C=100, gamma=0.0001, kernel=rbf;, score=0.865 total time=  24.4s\n",
      "[CV 1/5] END C=100, gamma=0.0001, kernel=sigmoid;, score=0.831 total time=   9.7s\n",
      "[CV 2/5] END C=100, gamma=0.0001, kernel=sigmoid;, score=0.842 total time=   9.7s\n",
      "[CV 3/5] END C=100, gamma=0.0001, kernel=sigmoid;, score=0.852 total time=   9.5s\n",
      "[CV 4/5] END C=100, gamma=0.0001, kernel=sigmoid;, score=0.838 total time=   9.7s\n",
      "[CV 5/5] END C=100, gamma=0.0001, kernel=sigmoid;, score=0.860 total time=   9.6s\n",
      "[CV 1/5] END C=100, gamma=0.0001, kernel=linear;, score=0.818 total time=   9.5s\n",
      "[CV 2/5] END C=100, gamma=0.0001, kernel=linear;, score=0.829 total time=   9.4s\n",
      "[CV 3/5] END C=100, gamma=0.0001, kernel=linear;, score=0.836 total time=   9.5s\n",
      "[CV 4/5] END C=100, gamma=0.0001, kernel=linear;, score=0.830 total time=   9.3s\n",
      "[CV 5/5] END C=100, gamma=0.0001, kernel=linear;, score=0.844 total time=   9.5s\n",
      "[CV 1/5] END .......C=1000, gamma=1, kernel=rbf;, score=0.106 total time= 1.5min\n",
      "[CV 2/5] END .......C=1000, gamma=1, kernel=rbf;, score=0.106 total time= 1.5min\n",
      "[CV 3/5] END .......C=1000, gamma=1, kernel=rbf;, score=0.106 total time= 1.5min\n",
      "[CV 4/5] END .......C=1000, gamma=1, kernel=rbf;, score=0.107 total time= 1.5min\n",
      "[CV 5/5] END .......C=1000, gamma=1, kernel=rbf;, score=0.107 total time= 1.5min\n",
      "[CV 1/5] END ...C=1000, gamma=1, kernel=sigmoid;, score=0.106 total time=  54.4s\n",
      "[CV 2/5] END ...C=1000, gamma=1, kernel=sigmoid;, score=0.106 total time=  54.9s\n",
      "[CV 3/5] END ...C=1000, gamma=1, kernel=sigmoid;, score=0.106 total time=  55.5s\n",
      "[CV 4/5] END ...C=1000, gamma=1, kernel=sigmoid;, score=0.107 total time=  54.4s\n",
      "[CV 5/5] END ...C=1000, gamma=1, kernel=sigmoid;, score=0.107 total time=  54.5s\n",
      "[CV 1/5] END ....C=1000, gamma=1, kernel=linear;, score=0.818 total time=   9.6s\n",
      "[CV 2/5] END ....C=1000, gamma=1, kernel=linear;, score=0.829 total time=   9.6s\n",
      "[CV 3/5] END ....C=1000, gamma=1, kernel=linear;, score=0.836 total time=   9.6s\n",
      "[CV 4/5] END ....C=1000, gamma=1, kernel=linear;, score=0.830 total time=   9.4s\n",
      "[CV 5/5] END ....C=1000, gamma=1, kernel=linear;, score=0.844 total time=   9.6s\n",
      "[CV 1/5] END .....C=1000, gamma=0.1, kernel=rbf;, score=0.150 total time= 1.5min\n",
      "[CV 2/5] END .....C=1000, gamma=0.1, kernel=rbf;, score=0.149 total time= 1.5min\n",
      "[CV 3/5] END .....C=1000, gamma=0.1, kernel=rbf;, score=0.130 total time= 1.5min\n",
      "[CV 4/5] END .....C=1000, gamma=0.1, kernel=rbf;, score=0.151 total time= 1.5min\n",
      "[CV 5/5] END .....C=1000, gamma=0.1, kernel=rbf;, score=0.141 total time= 1.5min\n",
      "[CV 1/5] END .C=1000, gamma=0.1, kernel=sigmoid;, score=0.106 total time=  54.8s\n",
      "[CV 2/5] END .C=1000, gamma=0.1, kernel=sigmoid;, score=0.106 total time=  55.0s\n",
      "[CV 3/5] END .C=1000, gamma=0.1, kernel=sigmoid;, score=0.106 total time=  54.7s\n",
      "[CV 4/5] END .C=1000, gamma=0.1, kernel=sigmoid;, score=0.107 total time=  54.6s\n",
      "[CV 5/5] END .C=1000, gamma=0.1, kernel=sigmoid;, score=0.107 total time=  54.7s\n",
      "[CV 1/5] END ..C=1000, gamma=0.1, kernel=linear;, score=0.818 total time=   9.5s\n",
      "[CV 2/5] END ..C=1000, gamma=0.1, kernel=linear;, score=0.829 total time=   9.5s\n",
      "[CV 3/5] END ..C=1000, gamma=0.1, kernel=linear;, score=0.836 total time=   9.8s\n",
      "[CV 4/5] END ..C=1000, gamma=0.1, kernel=linear;, score=0.830 total time=   9.6s\n",
      "[CV 5/5] END ..C=1000, gamma=0.1, kernel=linear;, score=0.844 total time=   9.6s\n",
      "[CV 1/5] END ....C=1000, gamma=0.01, kernel=rbf;, score=0.751 total time= 1.3min\n",
      "[CV 2/5] END ....C=1000, gamma=0.01, kernel=rbf;, score=0.741 total time= 1.3min\n",
      "[CV 3/5] END ....C=1000, gamma=0.01, kernel=rbf;, score=0.731 total time= 1.3min\n",
      "[CV 4/5] END ....C=1000, gamma=0.01, kernel=rbf;, score=0.746 total time= 1.3min\n",
      "[CV 5/5] END ....C=1000, gamma=0.01, kernel=rbf;, score=0.744 total time= 1.3min\n",
      "[CV 1/5] END C=1000, gamma=0.01, kernel=sigmoid;, score=0.106 total time=  56.2s\n",
      "[CV 2/5] END C=1000, gamma=0.01, kernel=sigmoid;, score=0.106 total time=  56.4s\n",
      "[CV 3/5] END C=1000, gamma=0.01, kernel=sigmoid;, score=0.106 total time=  56.1s\n",
      "[CV 4/5] END C=1000, gamma=0.01, kernel=sigmoid;, score=0.107 total time=  55.8s\n",
      "[CV 5/5] END C=1000, gamma=0.01, kernel=sigmoid;, score=0.107 total time=  56.0s\n",
      "[CV 1/5] END .C=1000, gamma=0.01, kernel=linear;, score=0.818 total time=   9.7s\n",
      "[CV 2/5] END .C=1000, gamma=0.01, kernel=linear;, score=0.829 total time=   9.9s\n",
      "[CV 3/5] END .C=1000, gamma=0.01, kernel=linear;, score=0.836 total time=   9.6s\n",
      "[CV 4/5] END .C=1000, gamma=0.01, kernel=linear;, score=0.830 total time=   9.4s\n",
      "[CV 5/5] END .C=1000, gamma=0.01, kernel=linear;, score=0.844 total time=   9.7s\n",
      "[CV 1/5] END ...C=1000, gamma=0.001, kernel=rbf;, score=0.846 total time=  31.2s\n",
      "[CV 2/5] END ...C=1000, gamma=0.001, kernel=rbf;, score=0.834 total time=  30.9s\n",
      "[CV 3/5] END ...C=1000, gamma=0.001, kernel=rbf;, score=0.848 total time=  30.7s\n",
      "[CV 4/5] END ...C=1000, gamma=0.001, kernel=rbf;, score=0.853 total time=  31.2s\n",
      "[CV 5/5] END ...C=1000, gamma=0.001, kernel=rbf;, score=0.860 total time=  31.3s\n",
      "[CV 1/5] END C=1000, gamma=0.001, kernel=sigmoid;, score=0.603 total time=   9.9s\n",
      "[CV 2/5] END C=1000, gamma=0.001, kernel=sigmoid;, score=0.577 total time=   9.3s\n",
      "[CV 3/5] END C=1000, gamma=0.001, kernel=sigmoid;, score=0.570 total time=   9.6s\n",
      "[CV 4/5] END C=1000, gamma=0.001, kernel=sigmoid;, score=0.559 total time=  10.1s\n",
      "[CV 5/5] END C=1000, gamma=0.001, kernel=sigmoid;, score=0.590 total time=   9.2s\n",
      "[CV 1/5] END C=1000, gamma=0.001, kernel=linear;, score=0.818 total time=   9.7s\n",
      "[CV 2/5] END C=1000, gamma=0.001, kernel=linear;, score=0.829 total time=   9.5s\n",
      "[CV 3/5] END C=1000, gamma=0.001, kernel=linear;, score=0.836 total time=   9.9s\n",
      "[CV 4/5] END C=1000, gamma=0.001, kernel=linear;, score=0.830 total time=   9.4s\n",
      "[CV 5/5] END C=1000, gamma=0.001, kernel=linear;, score=0.844 total time=   9.4s\n",
      "[CV 1/5] END ..C=1000, gamma=0.0001, kernel=rbf;, score=0.831 total time=  24.4s\n",
      "[CV 2/5] END ..C=1000, gamma=0.0001, kernel=rbf;, score=0.831 total time=  24.9s\n",
      "[CV 3/5] END ..C=1000, gamma=0.0001, kernel=rbf;, score=0.839 total time=  25.0s\n",
      "[CV 4/5] END ..C=1000, gamma=0.0001, kernel=rbf;, score=0.834 total time=  24.1s\n",
      "[CV 5/5] END ..C=1000, gamma=0.0001, kernel=rbf;, score=0.851 total time=  25.0s\n",
      "[CV 1/5] END C=1000, gamma=0.0001, kernel=sigmoid;, score=0.827 total time=   9.5s\n",
      "[CV 2/5] END C=1000, gamma=0.0001, kernel=sigmoid;, score=0.824 total time=   9.4s\n",
      "[CV 3/5] END C=1000, gamma=0.0001, kernel=sigmoid;, score=0.842 total time=   9.8s\n",
      "[CV 4/5] END C=1000, gamma=0.0001, kernel=sigmoid;, score=0.822 total time=   9.4s\n",
      "[CV 5/5] END C=1000, gamma=0.0001, kernel=sigmoid;, score=0.846 total time=   9.8s\n",
      "[CV 1/5] END C=1000, gamma=0.0001, kernel=linear;, score=0.818 total time=   9.7s\n",
      "[CV 2/5] END C=1000, gamma=0.0001, kernel=linear;, score=0.829 total time=   9.4s\n",
      "[CV 3/5] END C=1000, gamma=0.0001, kernel=linear;, score=0.836 total time=   9.7s\n",
      "[CV 4/5] END C=1000, gamma=0.0001, kernel=linear;, score=0.830 total time=   9.5s\n",
      "[CV 5/5] END C=1000, gamma=0.0001, kernel=linear;, score=0.844 total time=   9.6s\n"
     ]
    },
    {
     "data": {
      "text/plain": [
       "GridSearchCV(estimator=SVC(),\n",
       "             param_grid={'C': [0.1, 1, 10, 100, 1000],\n",
       "                         'gamma': [1, 0.1, 0.01, 0.001, 0.0001],\n",
       "                         'kernel': ['rbf', 'sigmoid', 'linear']},\n",
       "             verbose=3)"
      ]
     },
     "execution_count": 105,
     "metadata": {},
     "output_type": "execute_result"
    }
   ],
   "source": [
    "# Tìm super para\n",
    "grid = GridSearchCV(SVC(), param_grid, refit = True, verbose = 3)\n",
    "grid.fit(para_x_train, para_y_train)"
   ]
  },
  {
   "cell_type": "code",
   "execution_count": 114,
   "metadata": {},
   "outputs": [
    {
     "name": "stdout",
     "output_type": "stream",
     "text": [
      "{'C': 10, 'gamma': 0.001, 'kernel': 'rbf'}\n",
      "SVC(C=10, gamma=0.001)\n",
      "0.8489583333333334\n"
     ]
    }
   ],
   "source": [
    "# Show best parameters\n",
    "# print best parameter after tuning\n",
    "best_param = grid.best_params_\n",
    "print(grid.best_params_)\n",
    " \n",
    "# print how our model looks after hyper-parameter tuning\n",
    "print(grid.best_estimator_)\n",
    "\n",
    "# print best score\n",
    "print(grid.best_score_)"
   ]
  },
  {
   "cell_type": "code",
   "execution_count": 107,
   "metadata": {},
   "outputs": [
    {
     "name": "stdout",
     "output_type": "stream",
     "text": [
      "              precision    recall  f1-score   support\n",
      "\n",
      "           0       0.84      0.89      0.86       124\n",
      "           1       0.98      0.97      0.98       126\n",
      "           2       0.80      0.75      0.78       120\n",
      "           3       0.80      0.86      0.83       110\n",
      "           4       0.80      0.75      0.77       134\n",
      "           5       0.90      0.93      0.91       102\n",
      "           6       0.68      0.66      0.67       113\n",
      "           7       0.93      0.90      0.92       127\n",
      "           8       0.95      0.97      0.96       119\n",
      "           9       0.94      0.95      0.95       125\n",
      "\n",
      "    accuracy                           0.86      1200\n",
      "   macro avg       0.86      0.86      0.86      1200\n",
      "weighted avg       0.86      0.86      0.86      1200\n",
      "\n"
     ]
    }
   ],
   "source": [
    "# classification report\n",
    "print(classification_report(para_y_test, grid.predict(para_x_test)))"
   ]
  },
  {
   "cell_type": "code",
   "execution_count": 129,
   "metadata": {},
   "outputs": [],
   "source": [
    "def plot_confusion_matrix(cm, classes,\n",
    "                          normalize=False,\n",
    "                          title='Confusion matrix',\n",
    "                          cmap=plt.cm.Blues):\n",
    "    \"\"\"\n",
    "    This function prints and plots the confusion matrix.\n",
    "    Normalization can be applied by setting `normalize=True`.\n",
    "    \"\"\"\n",
    "    import itertools\n",
    "    if normalize:\n",
    "        cm = cm.astype('float') / cm.sum(axis=1)[:, np.newaxis]\n",
    "        print(\"Normalized confusion matrix\")\n",
    "    else:\n",
    "        print('Confusion matrix, without normalization')\n",
    "\n",
    "    print(cm)\n",
    "\n",
    "    plt.imshow(cm, interpolation='nearest', cmap=cmap)\n",
    "    plt.title(title)\n",
    "    plt.colorbar()\n",
    "    tick_marks = np.arange(len(classes))\n",
    "    plt.xticks(tick_marks, classes, rotation=45)\n",
    "    plt.yticks(tick_marks, classes)\n",
    "\n",
    "    fmt = '.2f' if normalize else 'd'\n",
    "    thresh = cm.max() / 2.\n",
    "    for i, j in itertools.product(range(cm.shape[0]), range(cm.shape[1])):\n",
    "        plt.text(j, i, format(cm[i, j], fmt),\n",
    "                 horizontalalignment=\"center\",\n",
    "                 color=\"white\" if cm[i, j] > thresh else \"black\")\n",
    "\n",
    "    plt.ylabel('True label')\n",
    "    plt.xlabel('Predicted label')\n",
    "    plt.tight_layout()\n",
    "    name_model = ''\n",
    "    if 'Modified' in title:\n",
    "        \n",
    "        name_model = 'Modified_SVM'\n",
    "    else:\n",
    "        if 'Default' in title:\n",
    "            name_model = 'Default_SVM'\n",
    "        else:\n",
    "            name_model = 'Linear_SVM'\n",
    "    plt.savefig(f'./{name_model}.png', dpi=300, bbox_inches='tight')"
   ]
  },
  {
   "cell_type": "code",
   "execution_count": 112,
   "metadata": {},
   "outputs": [],
   "source": [
    "y_train = [sample[i] for i in y_train]\n",
    "test_labels = [sample[i] for i in test_labels]"
   ]
  },
  {
   "cell_type": "code",
   "execution_count": 115,
   "metadata": {},
   "outputs": [
    {
     "name": "stdout",
     "output_type": "stream",
     "text": [
      "{'C': 10, 'gamma': 0.001, 'kernel': 'rbf'}\n"
     ]
    }
   ],
   "source": [
    "print(best_param)"
   ]
  },
  {
   "cell_type": "code",
   "execution_count": 116,
   "metadata": {},
   "outputs": [
    {
     "name": "stdout",
     "output_type": "stream",
     "text": [
      "---Result of Modified SVC with hyperparameters---\n",
      "Train score:  0.9660185185185185\n",
      "Test score:  0.8887\n"
     ]
    }
   ],
   "source": [
    "# Dùng Parameters vừa tìm được train tập data\n",
    "modified_clf = SVC(C=best_param['C'], kernel=best_param['kernel'], gamma=best_param['gamma'])\n",
    "modified_clf.fit(x_train, y_train)\n",
    "print(\"---Result of Modified SVC with hyperparameters---\")\n",
    "print(\"Train score: \", modified_clf.score(x_train, y_train))\n",
    "print(\"Test score: \", modified_clf.score(test_, test_labels))\n"
   ]
  },
  {
   "cell_type": "code",
   "execution_count": 118,
   "metadata": {},
   "outputs": [
    {
     "name": "stdout",
     "output_type": "stream",
     "text": [
      "Confusion matrix, without normalization\n",
      "[[832   2  18  29   6   0 103   0   8   2]\n",
      " [  3 971   3  16   2   0   4   0   1   0]\n",
      " [ 14   0 828  10  80   0  67   0   1   0]\n",
      " [ 18   6  13 892  36   0  34   0   1   0]\n",
      " [  2   1  63  27 837   0  66   0   4   0]\n",
      " [  0   0   0   0   0 963   0  28   1   8]\n",
      " [127   1  68  33  80   1 676   0  13   1]\n",
      " [  0   0   0   0   0  15   0 960   0  25]\n",
      " [  2   0   2   2   7   2   6   0 977   2]\n",
      " [  0   0   1   0   0   7   0  41   0 951]]\n",
      "              precision    recall  f1-score   support\n",
      "\n",
      " T-shirt/top       0.96      0.95      0.96      1000\n",
      "     Trouser       0.97      0.98      0.97      1000\n",
      "    Pullover       0.80      0.84      0.82      1000\n",
      "       Dress       0.88      0.89      0.89      1000\n",
      "        Coat       0.83      0.83      0.83      1000\n",
      "      Sandal       0.97      0.96      0.97      1000\n",
      "       Shirt       0.71      0.68      0.69      1000\n",
      "     Sneaker       0.93      0.96      0.95      1000\n",
      "         Bag       0.83      0.83      0.83      1000\n",
      "  Ankle boot       0.99      0.97      0.98      1000\n",
      "\n",
      "    accuracy                           0.89     10000\n",
      "   macro avg       0.89      0.89      0.89     10000\n",
      "weighted avg       0.89      0.89      0.89     10000\n",
      "\n"
     ]
    },
    {
     "data": {
      "image/png": "[encoded data removed]",
      "text/plain": [
       "<Figure size 432x288 with 2 Axes>"
      ]
     },
     "metadata": {
      "needs_background": "light"
     },
     "output_type": "display_data"
    }
   ],
   "source": [
    "# Predict Modified SVM\n",
    "y_pred = modified_clf.predict(test_)\n",
    "cnf_matrix_nb = confusion_matrix(test_labels, y_pred, labels=sample)\n",
    "np.set_printoptions(precision=2)\n",
    "plt.figure()\n",
    "plot_confusion_matrix(cnf_matrix_nb, classes=sample,\n",
    "                      title=f'CM, without normalization, MODEL Modified SVM')\n",
    "print(classification_report(test_labels, y_pred,target_names=sample))"
   ]
  },
  {
   "cell_type": "code",
   "execution_count": 119,
   "metadata": {},
   "outputs": [
    {
     "data": {
      "text/plain": [
       "['Modified_SVM.pkl']"
      ]
     },
     "execution_count": 119,
     "metadata": {},
     "output_type": "execute_result"
    }
   ],
   "source": [
    "#Lưu data của Modified SVM\n",
    "import joblib\n",
    "joblib.dump(modified_clf, 'Modified_SVM.pkl')"
   ]
  },
  {
   "cell_type": "code",
   "execution_count": 120,
   "metadata": {},
   "outputs": [
    {
     "name": "stdout",
     "output_type": "stream",
     "text": [
      "---Result of Modified SVC with hyperparameters---\n",
      "Train score:  0.8848148148148148\n",
      "Test score:  0.8674\n"
     ]
    }
   ],
   "source": [
    "# Dùng Default Parameters\n",
    "default_clf = SVC()\n",
    "default_clf.fit(x_train, y_train)\n",
    "print(\"---Result of Default SVC---\")\n",
    "print(\"Train score: \", default_clf.score(x_train, y_train))\n",
    "print(\"Test score: \", default_clf.score(test_, test_labels))\n"
   ]
  },
  {
   "cell_type": "code",
   "execution_count": 2,
   "metadata": {},
   "outputs": [
    {
     "data": {
      "text/plain": [
       "device(type='cuda')"
      ]
     },
     "execution_count": 2,
     "metadata": {},
     "output_type": "execute_result"
    }
   ],
   "source": [
    "device = torch.device('cuda' if torch.cuda.is_available() else 'cpu')\n",
    "device"
   ]
  },
  {
   "cell_type": "code",
   "execution_count": 122,
   "metadata": {},
   "outputs": [
    {
     "name": "stdout",
     "output_type": "stream",
     "text": [
      "Confusion matrix, without normalization\n",
      "[[833   1  24  41   8   0  83   0   9   1]\n",
      " [  2 965   3  22   0   0   6   0   2   0]\n",
      " [ 10   1 780  11 100   0  96   0   2   0]\n",
      " [ 21   7  10 879  38   0  44   0   1   0]\n",
      " [  1   1  85  39 784   0  87   0   3   0]\n",
      " [  0   0   0   1   0 939   0  45   0  15]\n",
      " [158   1  76  39  86   1 621   0  17   1]\n",
      " [  0   0   0   0   0  22   0 951   1  26]\n",
      " [  2   0   1   6   6   4   9   0 970   2]\n",
      " [  0   0   1   1   0   9   0  37   0 952]]\n",
      "              precision    recall  f1-score   support\n",
      "\n",
      " T-shirt/top       0.95      0.95      0.95      1000\n",
      "     Trouser       0.97      0.97      0.97      1000\n",
      "    Pullover       0.77      0.78      0.78      1000\n",
      "       Dress       0.85      0.88      0.86      1000\n",
      "        Coat       0.80      0.78      0.79      1000\n",
      "      Sandal       0.96      0.94      0.95      1000\n",
      "       Shirt       0.66      0.62      0.64      1000\n",
      "     Sneaker       0.92      0.95      0.94      1000\n",
      "         Bag       0.81      0.83      0.82      1000\n",
      "  Ankle boot       0.99      0.96      0.98      1000\n",
      "\n",
      "    accuracy                           0.87     10000\n",
      "   macro avg       0.87      0.87      0.87     10000\n",
      "weighted avg       0.87      0.87      0.87     10000\n",
      "\n"
     ]
    },
    {
     "data": {
      "image/png": "[encoded data removed]",
      "text/plain": [
       "<Figure size 432x288 with 2 Axes>"
      ]
     },
     "metadata": {
      "needs_background": "light"
     },
     "output_type": "display_data"
    }
   ],
   "source": [
    "# Predict Default SVM\n",
    "y_pred = default_clf.predict(test_)\n",
    "cnf_matrix_nb = confusion_matrix(test_labels, y_pred, labels=sample)\n",
    "np.set_printoptions(precision=2)\n",
    "plt.figure()\n",
    "plot_confusion_matrix(cnf_matrix_nb, classes=sample,\n",
    "                      title=f'CM, without normalization, MODEL Default SVM')\n",
    "print(classification_report(test_labels, y_pred,target_names=sample))"
   ]
  },
  {
   "cell_type": "code",
   "execution_count": 121,
   "metadata": {},
   "outputs": [
    {
     "data": {
      "text/plain": [
       "['Default_SVM.pkl']"
      ]
     },
     "execution_count": 121,
     "metadata": {},
     "output_type": "execute_result"
    }
   ],
   "source": [
    "#Lưu data của Default SVM\n",
    "joblib.dump(default_clf, 'Default_SVM.pkl')"
   ]
  },
  {
   "cell_type": "code",
   "execution_count": 130,
   "metadata": {},
   "outputs": [
    {
     "name": "stdout",
     "output_type": "stream",
     "text": [
      "---Result of Default SVC---\n",
      "Train score:  0.9677222222222223\n",
      "Test score:  0.8631\n"
     ]
    }
   ],
   "source": [
    "# Dùng Linear Kernel\n",
    "linear_clf = SVC(kernel='linear')\n",
    "linear_clf.fit(x_train, y_train)\n",
    "print(\"---Result of Default SVC---\")\n",
    "print(\"Train score: \", linear_clf.score(x_train, y_train))\n",
    "print(\"Test score: \", linear_clf.score(test_, test_labels))"
   ]
  },
  {
   "cell_type": "code",
   "execution_count": 131,
   "metadata": {},
   "outputs": [
    {
     "name": "stdout",
     "output_type": "stream",
     "text": [
      "Confusion matrix, without normalization\n",
      "[[776   2  37  32  13   1 125   0  13   1]\n",
      " [  4 976   1  12   0   0   5   0   2   0]\n",
      " [ 15   1 786   9 115   0  70   0   4   0]\n",
      " [ 26  12  15 856  38   0  47   0   6   0]\n",
      " [  3   1  83  32 789   0  89   0   3   0]\n",
      " [  0   0   0   0   0 953   0  30   0  17]\n",
      " [131   4  89  41  93   0 627   0  14   1]\n",
      " [  0   0   0   0   0  22   0 945   2  31]\n",
      " [  2   1   0   4   3   2   8   0 977   3]\n",
      " [  0   0   0   0   0  12   0  42   0 946]]\n",
      "              precision    recall  f1-score   support\n",
      "\n",
      " T-shirt/top       0.95      0.95      0.95      1000\n",
      "     Trouser       0.96      0.98      0.97      1000\n",
      "    Pullover       0.75      0.79      0.77      1000\n",
      "       Dress       0.87      0.86      0.86      1000\n",
      "        Coat       0.78      0.79      0.78      1000\n",
      "      Sandal       0.96      0.95      0.96      1000\n",
      "       Shirt       0.65      0.63      0.64      1000\n",
      "     Sneaker       0.93      0.94      0.94      1000\n",
      "         Bag       0.81      0.78      0.79      1000\n",
      "  Ankle boot       0.98      0.98      0.98      1000\n",
      "\n",
      "    accuracy                           0.86     10000\n",
      "   macro avg       0.86      0.86      0.86     10000\n",
      "weighted avg       0.86      0.86      0.86     10000\n",
      "\n"
     ]
    },
    {
     "data": {
      "image/png": "[encoded data removed]",
      "text/plain": [
       "<Figure size 432x288 with 2 Axes>"
      ]
     },
     "metadata": {
      "needs_background": "light"
     },
     "output_type": "display_data"
    }
   ],
   "source": [
    "# Predict Linear Kernel\n",
    "y_pred = linear_clf.predict(test_)\n",
    "cnf_matrix_nb = confusion_matrix(test_labels, y_pred, labels=sample)\n",
    "np.set_printoptions(precision=2)\n",
    "plt.figure()\n",
    "plot_confusion_matrix(cnf_matrix_nb, classes=sample,\n",
    "                      title=f'CM, without normalization, MODEL Linear SVM')\n",
    "print(classification_report(test_labels, y_pred,target_names=sample))"
   ]
  },
  {
   "cell_type": "code",
   "execution_count": 132,
   "metadata": {},
   "outputs": [
    {
     "data": {
      "text/plain": [
       "['Linear_SVM.pkl']"
      ]
     },
     "execution_count": 132,
     "metadata": {},
     "output_type": "execute_result"
    }
   ],
   "source": [
    "#Lưu data của Linear SVM\n",
    "joblib.dump(linear_clf, 'Linear_SVM.pkl')"
   ]
  },
  {
   "cell_type": "code",
   "execution_count": 133,
   "metadata": {},
   "outputs": [],
   "source": [
    "# Load data đã train của Modified SVM, Default SVM, Linear SVM\n",
    "pre_modified_clf = joblib.load('Modified_SVM.pkl')\n",
    "pre_default_clf = joblib.load('Default_SVM.pkl')\n",
    "pre_linear_clf = joblib.load('Linear_SVM.pkl')"
   ]
  },
  {
   "cell_type": "code",
   "execution_count": 134,
   "metadata": {},
   "outputs": [],
   "source": [
    "def showImage(image):\n",
    "    #image = cv2.cvtColor(image, cv2.COLOR_BGR2RGB)\n",
    "    plt.imshow(image)\n",
    "    plt.show()"
   ]
  },
  {
   "cell_type": "code",
   "execution_count": 135,
   "metadata": {},
   "outputs": [
    {
     "name": "stdout",
     "output_type": "stream",
     "text": [
      "True Predict: Dress \n",
      " Default predict: ['Dress'] \n",
      " Modified predict: ['Dress'] \n",
      " Linear predict: ['Dress']\n"
     ]
    },
    {
     "data": {
      "image/png": "[encoded data removed]",
      "text/plain": [
       "<Figure size 432x288 with 1 Axes>"
      ]
     },
     "metadata": {
      "needs_background": "light"
     },
     "output_type": "display_data"
    },
    {
     "name": "stdout",
     "output_type": "stream",
     "text": [
      "True Predict: Dress \n",
      " Default predict: ['Trouser'] \n",
      " Modified predict: ['Trouser'] \n",
      " Linear predict: ['Dress']\n"
     ]
    },
    {
     "data": {
      "image/png": "[encoded data removed]",
      "text/plain": [
       "<Figure size 432x288 with 1 Axes>"
      ]
     },
     "metadata": {
      "needs_background": "light"
     },
     "output_type": "display_data"
    },
    {
     "name": "stdout",
     "output_type": "stream",
     "text": [
      "True Predict: T-shirt/top \n",
      " Default predict: ['T-shirt/top'] \n",
      " Modified predict: ['T-shirt/top'] \n",
      " Linear predict: ['T-shirt/top']\n"
     ]
    },
    {
     "data": {
      "image/png": "[encoded data removed]",
      "text/plain": [
       "<Figure size 432x288 with 1 Axes>"
      ]
     },
     "metadata": {
      "needs_background": "light"
     },
     "output_type": "display_data"
    },
    {
     "name": "stdout",
     "output_type": "stream",
     "text": [
      "True Predict: Ankle boot \n",
      " Default predict: ['Ankle boot'] \n",
      " Modified predict: ['Ankle boot'] \n",
      " Linear predict: ['Ankle boot']\n"
     ]
    },
    {
     "data": {
      "image/png": "[encoded data removed]",
      "text/plain": [
       "<Figure size 432x288 with 1 Axes>"
      ]
     },
     "metadata": {
      "needs_background": "light"
     },
     "output_type": "display_data"
    },
    {
     "name": "stdout",
     "output_type": "stream",
     "text": [
      "True Predict: Pullover \n",
      " Default predict: ['Coat'] \n",
      " Modified predict: ['Coat'] \n",
      " Linear predict: ['Coat']\n"
     ]
    },
    {
     "data": {
      "image/png": "[encoded data removed]",
      "text/plain": [
       "<Figure size 432x288 with 1 Axes>"
      ]
     },
     "metadata": {
      "needs_background": "light"
     },
     "output_type": "display_data"
    },
    {
     "name": "stdout",
     "output_type": "stream",
     "text": [
      "True Predict: Pullover \n",
      " Default predict: ['Coat'] \n",
      " Modified predict: ['Pullover'] \n",
      " Linear predict: ['Pullover']\n"
     ]
    },
    {
     "data": {
      "image/png": "[encoded data removed]",
      "text/plain": [
       "<Figure size 432x288 with 1 Axes>"
      ]
     },
     "metadata": {
      "needs_background": "light"
     },
     "output_type": "display_data"
    },
    {
     "name": "stdout",
     "output_type": "stream",
     "text": [
      "True Predict: Pullover \n",
      " Default predict: ['Shirt'] \n",
      " Modified predict: ['Pullover'] \n",
      " Linear predict: ['Pullover']\n"
     ]
    },
    {
     "data": {
      "image/png": "[encoded data removed]",
      "text/plain": [
       "<Figure size 432x288 with 1 Axes>"
      ]
     },
     "metadata": {
      "needs_background": "light"
     },
     "output_type": "display_data"
    },
    {
     "name": "stdout",
     "output_type": "stream",
     "text": [
      "True Predict: Dress \n",
      " Default predict: ['Shirt'] \n",
      " Modified predict: ['Shirt'] \n",
      " Linear predict: ['Pullover']\n"
     ]
    },
    {
     "data": {
      "image/png": "[encoded data removed]",
      "text/plain": [
       "<Figure size 432x288 with 1 Axes>"
      ]
     },
     "metadata": {
      "needs_background": "light"
     },
     "output_type": "display_data"
    },
    {
     "name": "stdout",
     "output_type": "stream",
     "text": [
      "True Predict: Pullover \n",
      " Default predict: ['Pullover'] \n",
      " Modified predict: ['Pullover'] \n",
      " Linear predict: ['Pullover']\n"
     ]
    },
    {
     "data": {
      "image/png": "[encoded data removed]",
      "text/plain": [
       "<Figure size 432x288 with 1 Axes>"
      ]
     },
     "metadata": {
      "needs_background": "light"
     },
     "output_type": "display_data"
    },
    {
     "name": "stdout",
     "output_type": "stream",
     "text": [
      "True Predict: Coat \n",
      " Default predict: ['Coat'] \n",
      " Modified predict: ['Coat'] \n",
      " Linear predict: ['Coat']\n"
     ]
    },
    {
     "data": {
      "image/png": "[encoded data removed]",
      "text/plain": [
       "<Figure size 432x288 with 1 Axes>"
      ]
     },
     "metadata": {
      "needs_background": "light"
     },
     "output_type": "display_data"
    }
   ],
   "source": [
    "import cv2\n",
    "n_test = np.random.randint(10000-10)\n",
    "for i in range(n_test, n_test+10):\n",
    "    _img_ = Image.open('./test_fashion/test' + str(i) + '.jpg')\n",
    "    ft = processing(_img_)\n",
    "    ft = np.array(ft, dtype=float)\n",
    "    default_pred = pre_default_clf.predict([ft])\n",
    "    modified_pred = pre_modified_clf.predict([ft])\n",
    "    linear_pred = pre_linear_clf.predict([ft])\n",
    "    print(f'True Predict: {test_labels[i]}','\\n',f'Default predict: {default_pred}', '\\n', f'Modified predict: {modified_pred}','\\n', f'Linear predict: {linear_pred}')\n",
    "    showImage(cv2.imread('./test_fashion/test' + str(i) + '.jpg'))"
   ]
  }
 ],
 "metadata": {
  "interpreter": {
   "hash": "8a609e55efdd99db2aa0284b17df7643708ba6407f205c1855df7db4ed0251d8"
  },
  "kernelspec": {
   "display_name": "Python 3.8.10 64-bit ('snowflakes': conda)",
   "language": "python",
   "name": "python3"
  },
  "language_info": {
   "codemirror_mode": {
    "name": "ipython",
    "version": 3
   },
   "file_extension": ".py",
   "mimetype": "text/x-python",
   "name": "python",
   "nbconvert_exporter": "python",
   "pygments_lexer": "ipython3",
   "version": "3.8.10"
  },
  "orig_nbformat": 4
 },
 "nbformat": 4,
 "nbformat_minor": 2
}
